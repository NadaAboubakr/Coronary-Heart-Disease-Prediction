{
 "cells": [
  {
   "cell_type": "code",
   "execution_count": 2,
   "id": "66499de3-9738-4f9b-95a0-74b51de06eab",
   "metadata": {},
   "outputs": [],
   "source": [
    "import pandas as pd\n",
    "import numpy as np\n",
    "import matplotlib.pylab as plt\n",
    "import seaborn as sns\n",
    "%matplotlib inline\n",
    "\n",
    "from sklearn.preprocessing import StandardScaler\n",
    "from sklearn.preprocessing import MinMaxScaler#range from 0 to 1\n"
   ]
  },
  {
   "cell_type": "code",
   "execution_count": 3,
   "id": "ca89c0a3-ef13-49c9-9698-06e73862f2e7",
   "metadata": {},
   "outputs": [
    {
     "data": {
      "text/html": [
       "<div>\n",
       "<style scoped>\n",
       "    .dataframe tbody tr th:only-of-type {\n",
       "        vertical-align: middle;\n",
       "    }\n",
       "\n",
       "    .dataframe tbody tr th {\n",
       "        vertical-align: top;\n",
       "    }\n",
       "\n",
       "    .dataframe thead th {\n",
       "        text-align: right;\n",
       "    }\n",
       "</style>\n",
       "<table border=\"1\" class=\"dataframe\">\n",
       "  <thead>\n",
       "    <tr style=\"text-align: right;\">\n",
       "      <th></th>\n",
       "      <th>male</th>\n",
       "      <th>age</th>\n",
       "      <th>education</th>\n",
       "      <th>currentSmoker</th>\n",
       "      <th>cigsPerDay</th>\n",
       "      <th>BPMeds</th>\n",
       "      <th>prevalentStroke</th>\n",
       "      <th>prevalentHyp</th>\n",
       "      <th>diabetes</th>\n",
       "      <th>totChol</th>\n",
       "      <th>sysBP</th>\n",
       "      <th>diaBP</th>\n",
       "      <th>BMI</th>\n",
       "      <th>heartRate</th>\n",
       "      <th>glucose</th>\n",
       "      <th>TenYearCHD</th>\n",
       "    </tr>\n",
       "  </thead>\n",
       "  <tbody>\n",
       "    <tr>\n",
       "      <th>0</th>\n",
       "      <td>1</td>\n",
       "      <td>39</td>\n",
       "      <td>4.0</td>\n",
       "      <td>0</td>\n",
       "      <td>0.0</td>\n",
       "      <td>0.0</td>\n",
       "      <td>0</td>\n",
       "      <td>0</td>\n",
       "      <td>0</td>\n",
       "      <td>195.0</td>\n",
       "      <td>106.0</td>\n",
       "      <td>70.0</td>\n",
       "      <td>26.97</td>\n",
       "      <td>80.0</td>\n",
       "      <td>77.0</td>\n",
       "      <td>0</td>\n",
       "    </tr>\n",
       "    <tr>\n",
       "      <th>1</th>\n",
       "      <td>0</td>\n",
       "      <td>46</td>\n",
       "      <td>2.0</td>\n",
       "      <td>0</td>\n",
       "      <td>0.0</td>\n",
       "      <td>0.0</td>\n",
       "      <td>0</td>\n",
       "      <td>0</td>\n",
       "      <td>0</td>\n",
       "      <td>250.0</td>\n",
       "      <td>121.0</td>\n",
       "      <td>81.0</td>\n",
       "      <td>28.73</td>\n",
       "      <td>95.0</td>\n",
       "      <td>76.0</td>\n",
       "      <td>0</td>\n",
       "    </tr>\n",
       "    <tr>\n",
       "      <th>2</th>\n",
       "      <td>1</td>\n",
       "      <td>48</td>\n",
       "      <td>1.0</td>\n",
       "      <td>1</td>\n",
       "      <td>20.0</td>\n",
       "      <td>0.0</td>\n",
       "      <td>0</td>\n",
       "      <td>0</td>\n",
       "      <td>0</td>\n",
       "      <td>245.0</td>\n",
       "      <td>127.5</td>\n",
       "      <td>80.0</td>\n",
       "      <td>25.34</td>\n",
       "      <td>75.0</td>\n",
       "      <td>70.0</td>\n",
       "      <td>0</td>\n",
       "    </tr>\n",
       "    <tr>\n",
       "      <th>3</th>\n",
       "      <td>0</td>\n",
       "      <td>61</td>\n",
       "      <td>3.0</td>\n",
       "      <td>1</td>\n",
       "      <td>30.0</td>\n",
       "      <td>0.0</td>\n",
       "      <td>0</td>\n",
       "      <td>1</td>\n",
       "      <td>0</td>\n",
       "      <td>225.0</td>\n",
       "      <td>150.0</td>\n",
       "      <td>95.0</td>\n",
       "      <td>28.58</td>\n",
       "      <td>65.0</td>\n",
       "      <td>103.0</td>\n",
       "      <td>1</td>\n",
       "    </tr>\n",
       "    <tr>\n",
       "      <th>4</th>\n",
       "      <td>0</td>\n",
       "      <td>46</td>\n",
       "      <td>3.0</td>\n",
       "      <td>1</td>\n",
       "      <td>23.0</td>\n",
       "      <td>0.0</td>\n",
       "      <td>0</td>\n",
       "      <td>0</td>\n",
       "      <td>0</td>\n",
       "      <td>285.0</td>\n",
       "      <td>130.0</td>\n",
       "      <td>84.0</td>\n",
       "      <td>23.10</td>\n",
       "      <td>85.0</td>\n",
       "      <td>85.0</td>\n",
       "      <td>0</td>\n",
       "    </tr>\n",
       "    <tr>\n",
       "      <th>...</th>\n",
       "      <td>...</td>\n",
       "      <td>...</td>\n",
       "      <td>...</td>\n",
       "      <td>...</td>\n",
       "      <td>...</td>\n",
       "      <td>...</td>\n",
       "      <td>...</td>\n",
       "      <td>...</td>\n",
       "      <td>...</td>\n",
       "      <td>...</td>\n",
       "      <td>...</td>\n",
       "      <td>...</td>\n",
       "      <td>...</td>\n",
       "      <td>...</td>\n",
       "      <td>...</td>\n",
       "      <td>...</td>\n",
       "    </tr>\n",
       "    <tr>\n",
       "      <th>4235</th>\n",
       "      <td>0</td>\n",
       "      <td>48</td>\n",
       "      <td>2.0</td>\n",
       "      <td>1</td>\n",
       "      <td>20.0</td>\n",
       "      <td>NaN</td>\n",
       "      <td>0</td>\n",
       "      <td>0</td>\n",
       "      <td>0</td>\n",
       "      <td>248.0</td>\n",
       "      <td>131.0</td>\n",
       "      <td>72.0</td>\n",
       "      <td>22.00</td>\n",
       "      <td>84.0</td>\n",
       "      <td>86.0</td>\n",
       "      <td>0</td>\n",
       "    </tr>\n",
       "    <tr>\n",
       "      <th>4236</th>\n",
       "      <td>0</td>\n",
       "      <td>44</td>\n",
       "      <td>1.0</td>\n",
       "      <td>1</td>\n",
       "      <td>15.0</td>\n",
       "      <td>0.0</td>\n",
       "      <td>0</td>\n",
       "      <td>0</td>\n",
       "      <td>0</td>\n",
       "      <td>210.0</td>\n",
       "      <td>126.5</td>\n",
       "      <td>87.0</td>\n",
       "      <td>19.16</td>\n",
       "      <td>86.0</td>\n",
       "      <td>NaN</td>\n",
       "      <td>0</td>\n",
       "    </tr>\n",
       "    <tr>\n",
       "      <th>4237</th>\n",
       "      <td>0</td>\n",
       "      <td>52</td>\n",
       "      <td>2.0</td>\n",
       "      <td>0</td>\n",
       "      <td>0.0</td>\n",
       "      <td>0.0</td>\n",
       "      <td>0</td>\n",
       "      <td>0</td>\n",
       "      <td>0</td>\n",
       "      <td>269.0</td>\n",
       "      <td>133.5</td>\n",
       "      <td>83.0</td>\n",
       "      <td>21.47</td>\n",
       "      <td>80.0</td>\n",
       "      <td>107.0</td>\n",
       "      <td>0</td>\n",
       "    </tr>\n",
       "    <tr>\n",
       "      <th>4238</th>\n",
       "      <td>1</td>\n",
       "      <td>40</td>\n",
       "      <td>3.0</td>\n",
       "      <td>0</td>\n",
       "      <td>0.0</td>\n",
       "      <td>0.0</td>\n",
       "      <td>0</td>\n",
       "      <td>1</td>\n",
       "      <td>0</td>\n",
       "      <td>185.0</td>\n",
       "      <td>141.0</td>\n",
       "      <td>98.0</td>\n",
       "      <td>25.60</td>\n",
       "      <td>67.0</td>\n",
       "      <td>72.0</td>\n",
       "      <td>0</td>\n",
       "    </tr>\n",
       "    <tr>\n",
       "      <th>4239</th>\n",
       "      <td>0</td>\n",
       "      <td>39</td>\n",
       "      <td>3.0</td>\n",
       "      <td>1</td>\n",
       "      <td>30.0</td>\n",
       "      <td>0.0</td>\n",
       "      <td>0</td>\n",
       "      <td>0</td>\n",
       "      <td>0</td>\n",
       "      <td>196.0</td>\n",
       "      <td>133.0</td>\n",
       "      <td>86.0</td>\n",
       "      <td>20.91</td>\n",
       "      <td>85.0</td>\n",
       "      <td>80.0</td>\n",
       "      <td>0</td>\n",
       "    </tr>\n",
       "  </tbody>\n",
       "</table>\n",
       "<p>4240 rows × 16 columns</p>\n",
       "</div>"
      ],
      "text/plain": [
       "      male  age  education  currentSmoker  cigsPerDay  BPMeds  \\\n",
       "0        1   39        4.0              0         0.0     0.0   \n",
       "1        0   46        2.0              0         0.0     0.0   \n",
       "2        1   48        1.0              1        20.0     0.0   \n",
       "3        0   61        3.0              1        30.0     0.0   \n",
       "4        0   46        3.0              1        23.0     0.0   \n",
       "...    ...  ...        ...            ...         ...     ...   \n",
       "4235     0   48        2.0              1        20.0     NaN   \n",
       "4236     0   44        1.0              1        15.0     0.0   \n",
       "4237     0   52        2.0              0         0.0     0.0   \n",
       "4238     1   40        3.0              0         0.0     0.0   \n",
       "4239     0   39        3.0              1        30.0     0.0   \n",
       "\n",
       "      prevalentStroke  prevalentHyp  diabetes  totChol  sysBP  diaBP    BMI  \\\n",
       "0                   0             0         0    195.0  106.0   70.0  26.97   \n",
       "1                   0             0         0    250.0  121.0   81.0  28.73   \n",
       "2                   0             0         0    245.0  127.5   80.0  25.34   \n",
       "3                   0             1         0    225.0  150.0   95.0  28.58   \n",
       "4                   0             0         0    285.0  130.0   84.0  23.10   \n",
       "...               ...           ...       ...      ...    ...    ...    ...   \n",
       "4235                0             0         0    248.0  131.0   72.0  22.00   \n",
       "4236                0             0         0    210.0  126.5   87.0  19.16   \n",
       "4237                0             0         0    269.0  133.5   83.0  21.47   \n",
       "4238                0             1         0    185.0  141.0   98.0  25.60   \n",
       "4239                0             0         0    196.0  133.0   86.0  20.91   \n",
       "\n",
       "      heartRate  glucose  TenYearCHD  \n",
       "0          80.0     77.0           0  \n",
       "1          95.0     76.0           0  \n",
       "2          75.0     70.0           0  \n",
       "3          65.0    103.0           1  \n",
       "4          85.0     85.0           0  \n",
       "...         ...      ...         ...  \n",
       "4235       84.0     86.0           0  \n",
       "4236       86.0      NaN           0  \n",
       "4237       80.0    107.0           0  \n",
       "4238       67.0     72.0           0  \n",
       "4239       85.0     80.0           0  \n",
       "\n",
       "[4240 rows x 16 columns]"
      ]
     },
     "execution_count": 3,
     "metadata": {},
     "output_type": "execute_result"
    }
   ],
   "source": [
    "data = pd.read_csv(\"D:\\\\framingham.csv\")\n",
    "data"
   ]
  },
  {
   "cell_type": "markdown",
   "id": "6ff6326a-ced0-4f51-a2e7-7b338e9cf648",
   "metadata": {},
   "source": [
    "# Missing Values"
   ]
  },
  {
   "cell_type": "code",
   "execution_count": 5,
   "id": "9e8bfb5b-9aa1-4e7e-9d31-2c1d6355cd04",
   "metadata": {},
   "outputs": [
    {
     "data": {
      "text/plain": [
       "glucose       388\n",
       "education     105\n",
       "BPMeds         53\n",
       "totChol        50\n",
       "cigsPerDay     29\n",
       "BMI            19\n",
       "heartRate       1\n",
       "dtype: int64"
      ]
     },
     "execution_count": 5,
     "metadata": {},
     "output_type": "execute_result"
    }
   ],
   "source": [
    "null_values = data.isnull().sum().sort_values(ascending = False)\n",
    "null_values = null_values[null_values > 0]\n",
    "null_values"
   ]
  },
  {
   "cell_type": "code",
   "execution_count": 6,
   "id": "697f1160-14ea-4a95-a044-81744d2c4db8",
   "metadata": {},
   "outputs": [
    {
     "data": {
      "text/plain": [
       "glucose       9.150943\n",
       "education     2.476415\n",
       "BPMeds        1.250000\n",
       "totChol       1.179245\n",
       "cigsPerDay    0.683962\n",
       "BMI           0.448113\n",
       "heartRate     0.023585\n",
       "dtype: float64"
      ]
     },
     "execution_count": 6,
     "metadata": {},
     "output_type": "execute_result"
    }
   ],
   "source": [
    "null_per = null_values / data.shape[0] * 100\n",
    "null_per"
   ]
  },
  {
   "cell_type": "code",
   "execution_count": 7,
   "id": "4ce5157f-77f6-470b-b678-c29f43cbf3bb",
   "metadata": {},
   "outputs": [
    {
     "data": {
      "image/png": "[encoded data removed]",
      "text/plain": [
       "<Figure size 1000x700 with 1 Axes>"
      ]
     },
     "metadata": {},
     "output_type": "display_data"
    }
   ],
   "source": [
    "null_per.plot(kind = \"bar\" , figsize = [10,7] , fontsize = 8);"
   ]
  },
  {
   "cell_type": "code",
   "execution_count": 8,
   "id": "6d5f01dd-ec70-4766-84eb-7c1340731503",
   "metadata": {},
   "outputs": [],
   "source": [
    "data.dropna(axis=0,inplace=True)"
   ]
  },
  {
   "cell_type": "code",
   "execution_count": 224,
   "id": "fab92d7d-a086-4747-b4d3-a166e8fb95c1",
   "metadata": {},
   "outputs": [
    {
     "data": {
      "text/plain": [
       "(3658, 14)"
      ]
     },
     "execution_count": 224,
     "metadata": {},
     "output_type": "execute_result"
    }
   ],
   "source": [
    "data.shape"
   ]
  },
  {
   "cell_type": "markdown",
   "id": "0be238ee-10db-417b-82e2-aa856497fd5c",
   "metadata": {},
   "source": [
    "# Skweed Data"
   ]
  },
  {
   "cell_type": "code",
   "execution_count": 11,
   "id": "e49898ad-3120-454a-b9a7-5f3dd0f77c6a",
   "metadata": {},
   "outputs": [],
   "source": [
    "numerical_features=data.drop(['male','currentSmoker','prevalentStroke','prevalentHyp','diabetes','TenYearCHD'],axis=1).columns"
   ]
  },
  {
   "cell_type": "code",
   "execution_count": 12,
   "id": "9b4fa52c-8f9c-415a-a3ef-da7bd8d55abe",
   "metadata": {},
   "outputs": [
    {
     "data": {
      "text/plain": [
       "Index(['age', 'education', 'cigsPerDay', 'BPMeds', 'totChol', 'sysBP', 'diaBP',\n",
       "       'BMI', 'heartRate', 'glucose'],\n",
       "      dtype='object')"
      ]
     },
     "execution_count": 12,
     "metadata": {},
     "output_type": "execute_result"
    }
   ],
   "source": [
    "numerical_features"
   ]
  },
  {
   "cell_type": "code",
   "execution_count": 13,
   "id": "fe103b41-5363-4fe9-a3ac-d6428e8075f2",
   "metadata": {},
   "outputs": [
    {
     "data": {
      "text/plain": [
       "glucose       6.281911\n",
       "BPMeds        5.478217\n",
       "cigsPerDay    1.228866\n",
       "sysBP         1.163611\n",
       "BMI           0.999606\n",
       "diaBP         0.709407\n",
       "education     0.688616\n",
       "heartRate     0.670839\n",
       "totChol       0.664334\n",
       "age           0.232006\n",
       "dtype: float64"
      ]
     },
     "execution_count": 13,
     "metadata": {},
     "output_type": "execute_result"
    }
   ],
   "source": [
    "data[numerical_features].skew().sort_values(ascending=False)"
   ]
  },
  {
   "cell_type": "code",
   "execution_count": 14,
   "id": "8121fc9b-3fbd-4ebf-bd0a-dd1bcc4f8ba3",
   "metadata": {},
   "outputs": [
    {
     "data": {
      "text/plain": [
       "['cigsPerDay', 'BPMeds', 'sysBP', 'glucose']"
      ]
     },
     "execution_count": 14,
     "metadata": {},
     "output_type": "execute_result"
    }
   ],
   "source": [
    "high_skew = []\n",
    "for i in numerical_features:\n",
    "    if abs(data[i].skew()) > 1:\n",
    "        high_skew.append(i)\n",
    "high_skew"
   ]
  },
  {
   "cell_type": "code",
   "execution_count": 15,
   "id": "848a8c92-5733-43b9-b9c3-98e83e0b12df",
   "metadata": {},
   "outputs": [
    {
     "name": "stderr",
     "output_type": "stream",
     "text": [
      "C:\\Users\\Dalia\\AppData\\Local\\Temp\\ipykernel_14616\\1494472868.py:5: UserWarning: \n",
      "\n",
      "`distplot` is a deprecated function and will be removed in seaborn v0.14.0.\n",
      "\n",
      "Please adapt your code to use either `displot` (a figure-level function with\n",
      "similar flexibility) or `histplot` (an axes-level function for histograms).\n",
      "\n",
      "For a guide to updating your code to use the new functions, please see\n",
      "https://gist.github.com/mwaskom/de44147ed2974457ad6372750bbe5751\n",
      "\n",
      "  sns.distplot(data[high_skew[i]])\n",
      "C:\\Users\\Dalia\\AppData\\Local\\Temp\\ipykernel_14616\\1494472868.py:5: UserWarning: \n",
      "\n",
      "`distplot` is a deprecated function and will be removed in seaborn v0.14.0.\n",
      "\n",
      "Please adapt your code to use either `displot` (a figure-level function with\n",
      "similar flexibility) or `histplot` (an axes-level function for histograms).\n",
      "\n",
      "For a guide to updating your code to use the new functions, please see\n",
      "https://gist.github.com/mwaskom/de44147ed2974457ad6372750bbe5751\n",
      "\n",
      "  sns.distplot(data[high_skew[i]])\n",
      "C:\\Users\\Dalia\\AppData\\Local\\Temp\\ipykernel_14616\\1494472868.py:5: UserWarning: \n",
      "\n",
      "`distplot` is a deprecated function and will be removed in seaborn v0.14.0.\n",
      "\n",
      "Please adapt your code to use either `displot` (a figure-level function with\n",
      "similar flexibility) or `histplot` (an axes-level function for histograms).\n",
      "\n",
      "For a guide to updating your code to use the new functions, please see\n",
      "https://gist.github.com/mwaskom/de44147ed2974457ad6372750bbe5751\n",
      "\n",
      "  sns.distplot(data[high_skew[i]])\n",
      "C:\\Users\\Dalia\\AppData\\Local\\Temp\\ipykernel_14616\\1494472868.py:5: UserWarning: \n",
      "\n",
      "`distplot` is a deprecated function and will be removed in seaborn v0.14.0.\n",
      "\n",
      "Please adapt your code to use either `displot` (a figure-level function with\n",
      "similar flexibility) or `histplot` (an axes-level function for histograms).\n",
      "\n",
      "For a guide to updating your code to use the new functions, please see\n",
      "https://gist.github.com/mwaskom/de44147ed2974457ad6372750bbe5751\n",
      "\n",
      "  sns.distplot(data[high_skew[i]])\n"
     ]
    },
    {
     "data": {
      "image/png": "[encoded data removed]",
      "text/plain": [
       "<Figure size 1000x1000 with 4 Axes>"
      ]
     },
     "metadata": {},
     "output_type": "display_data"
    }
   ],
   "source": [
    "plt.figure(figsize = [10 , 10])\n",
    "\n",
    "for i in range(len(high_skew)):\n",
    "    plt.subplot(2 , 2 , i + 1)\n",
    "    sns.distplot(data[high_skew[i]])\n",
    "    skewness = data[high_skew[i]].skew()\n",
    "    plt.xlabel(high_skew[i] + \" The Skewness is : \" + str(round(skewness,3)));"
   ]
  },
  {
   "cell_type": "code",
   "execution_count": 16,
   "id": "3719c7d9-0abb-4913-88fb-cba2aa386585",
   "metadata": {},
   "outputs": [],
   "source": [
    "for i in range(len(high_skew)):\n",
    "    data[high_skew[i]] = np.log1p(data[high_skew[i]])"
   ]
  },
  {
   "cell_type": "code",
   "execution_count": 17,
   "id": "422f2fae-a4dc-43c1-b2f0-60888b15b7cb",
   "metadata": {},
   "outputs": [
    {
     "name": "stderr",
     "output_type": "stream",
     "text": [
      "C:\\Users\\Dalia\\AppData\\Local\\Temp\\ipykernel_14616\\1494472868.py:5: UserWarning: \n",
      "\n",
      "`distplot` is a deprecated function and will be removed in seaborn v0.14.0.\n",
      "\n",
      "Please adapt your code to use either `displot` (a figure-level function with\n",
      "similar flexibility) or `histplot` (an axes-level function for histograms).\n",
      "\n",
      "For a guide to updating your code to use the new functions, please see\n",
      "https://gist.github.com/mwaskom/de44147ed2974457ad6372750bbe5751\n",
      "\n",
      "  sns.distplot(data[high_skew[i]])\n",
      "C:\\Users\\Dalia\\AppData\\Local\\Temp\\ipykernel_14616\\1494472868.py:5: UserWarning: \n",
      "\n",
      "`distplot` is a deprecated function and will be removed in seaborn v0.14.0.\n",
      "\n",
      "Please adapt your code to use either `displot` (a figure-level function with\n",
      "similar flexibility) or `histplot` (an axes-level function for histograms).\n",
      "\n",
      "For a guide to updating your code to use the new functions, please see\n",
      "https://gist.github.com/mwaskom/de44147ed2974457ad6372750bbe5751\n",
      "\n",
      "  sns.distplot(data[high_skew[i]])\n",
      "C:\\Users\\Dalia\\AppData\\Local\\Temp\\ipykernel_14616\\1494472868.py:5: UserWarning: \n",
      "\n",
      "`distplot` is a deprecated function and will be removed in seaborn v0.14.0.\n",
      "\n",
      "Please adapt your code to use either `displot` (a figure-level function with\n",
      "similar flexibility) or `histplot` (an axes-level function for histograms).\n",
      "\n",
      "For a guide to updating your code to use the new functions, please see\n",
      "https://gist.github.com/mwaskom/de44147ed2974457ad6372750bbe5751\n",
      "\n",
      "  sns.distplot(data[high_skew[i]])\n",
      "C:\\Users\\Dalia\\AppData\\Local\\Temp\\ipykernel_14616\\1494472868.py:5: UserWarning: \n",
      "\n",
      "`distplot` is a deprecated function and will be removed in seaborn v0.14.0.\n",
      "\n",
      "Please adapt your code to use either `displot` (a figure-level function with\n",
      "similar flexibility) or `histplot` (an axes-level function for histograms).\n",
      "\n",
      "For a guide to updating your code to use the new functions, please see\n",
      "https://gist.github.com/mwaskom/de44147ed2974457ad6372750bbe5751\n",
      "\n",
      "  sns.distplot(data[high_skew[i]])\n"
     ]
    },
    {
     "data": {
      "image/png": "[encoded data removed]",
      "text/plain": [
       "<Figure size 1000x1000 with 4 Axes>"
      ]
     },
     "metadata": {},
     "output_type": "display_data"
    }
   ],
   "source": [
    "plt.figure(figsize = [10 , 10])\n",
    "\n",
    "for i in range(len(high_skew)):\n",
    "    plt.subplot(2 , 2 , i + 1)\n",
    "    sns.distplot(data[high_skew[i]])\n",
    "    skewness = data[high_skew[i]].skew()\n",
    "    plt.xlabel(high_skew[i] + \" The Skewness is : \" + str(round(skewness,3)));"
   ]
  },
  {
   "cell_type": "markdown",
   "id": "5ebd6da6-7d21-4f8e-a910-b0dabab0e6fe",
   "metadata": {},
   "source": [
    "# Feature Selection using Chi Square (Category)"
   ]
  },
  {
   "cell_type": "markdown",
   "id": "4ab1ea15-6660-45a1-ab5b-a429321c9e85",
   "metadata": {},
   "source": [
    "The Chi-Square test is a statistical method used to assess the association between categorical variables by comparing observed frequencies to expected frequencies to determine if deviations from the expectation are significant."
   ]
  },
  {
   "cell_type": "code",
   "execution_count": 20,
   "id": "c59aee6c-0062-47d5-a183-8c73e8cff573",
   "metadata": {},
   "outputs": [],
   "source": [
    "categorical_features=data[['male','currentSmoker','BPMeds','prevalentStroke','prevalentHyp','diabetes']]"
   ]
  },
  {
   "cell_type": "code",
   "execution_count": 21,
   "id": "a26d91b2-5a94-4cd8-9993-8a1a09414b1a",
   "metadata": {},
   "outputs": [
    {
     "data": {
      "text/html": [
       "<div>\n",
       "<style scoped>\n",
       "    .dataframe tbody tr th:only-of-type {\n",
       "        vertical-align: middle;\n",
       "    }\n",
       "\n",
       "    .dataframe tbody tr th {\n",
       "        vertical-align: top;\n",
       "    }\n",
       "\n",
       "    .dataframe thead th {\n",
       "        text-align: right;\n",
       "    }\n",
       "</style>\n",
       "<table border=\"1\" class=\"dataframe\">\n",
       "  <thead>\n",
       "    <tr style=\"text-align: right;\">\n",
       "      <th></th>\n",
       "      <th>male</th>\n",
       "      <th>currentSmoker</th>\n",
       "      <th>BPMeds</th>\n",
       "      <th>prevalentStroke</th>\n",
       "      <th>prevalentHyp</th>\n",
       "      <th>diabetes</th>\n",
       "    </tr>\n",
       "  </thead>\n",
       "  <tbody>\n",
       "    <tr>\n",
       "      <th>0</th>\n",
       "      <td>1</td>\n",
       "      <td>0</td>\n",
       "      <td>0.0</td>\n",
       "      <td>0</td>\n",
       "      <td>0</td>\n",
       "      <td>0</td>\n",
       "    </tr>\n",
       "    <tr>\n",
       "      <th>1</th>\n",
       "      <td>0</td>\n",
       "      <td>0</td>\n",
       "      <td>0.0</td>\n",
       "      <td>0</td>\n",
       "      <td>0</td>\n",
       "      <td>0</td>\n",
       "    </tr>\n",
       "    <tr>\n",
       "      <th>2</th>\n",
       "      <td>1</td>\n",
       "      <td>1</td>\n",
       "      <td>0.0</td>\n",
       "      <td>0</td>\n",
       "      <td>0</td>\n",
       "      <td>0</td>\n",
       "    </tr>\n",
       "    <tr>\n",
       "      <th>3</th>\n",
       "      <td>0</td>\n",
       "      <td>1</td>\n",
       "      <td>0.0</td>\n",
       "      <td>0</td>\n",
       "      <td>1</td>\n",
       "      <td>0</td>\n",
       "    </tr>\n",
       "    <tr>\n",
       "      <th>4</th>\n",
       "      <td>0</td>\n",
       "      <td>1</td>\n",
       "      <td>0.0</td>\n",
       "      <td>0</td>\n",
       "      <td>0</td>\n",
       "      <td>0</td>\n",
       "    </tr>\n",
       "    <tr>\n",
       "      <th>...</th>\n",
       "      <td>...</td>\n",
       "      <td>...</td>\n",
       "      <td>...</td>\n",
       "      <td>...</td>\n",
       "      <td>...</td>\n",
       "      <td>...</td>\n",
       "    </tr>\n",
       "    <tr>\n",
       "      <th>4233</th>\n",
       "      <td>1</td>\n",
       "      <td>1</td>\n",
       "      <td>0.0</td>\n",
       "      <td>0</td>\n",
       "      <td>1</td>\n",
       "      <td>0</td>\n",
       "    </tr>\n",
       "    <tr>\n",
       "      <th>4234</th>\n",
       "      <td>1</td>\n",
       "      <td>1</td>\n",
       "      <td>0.0</td>\n",
       "      <td>0</td>\n",
       "      <td>0</td>\n",
       "      <td>0</td>\n",
       "    </tr>\n",
       "    <tr>\n",
       "      <th>4237</th>\n",
       "      <td>0</td>\n",
       "      <td>0</td>\n",
       "      <td>0.0</td>\n",
       "      <td>0</td>\n",
       "      <td>0</td>\n",
       "      <td>0</td>\n",
       "    </tr>\n",
       "    <tr>\n",
       "      <th>4238</th>\n",
       "      <td>1</td>\n",
       "      <td>0</td>\n",
       "      <td>0.0</td>\n",
       "      <td>0</td>\n",
       "      <td>1</td>\n",
       "      <td>0</td>\n",
       "    </tr>\n",
       "    <tr>\n",
       "      <th>4239</th>\n",
       "      <td>0</td>\n",
       "      <td>1</td>\n",
       "      <td>0.0</td>\n",
       "      <td>0</td>\n",
       "      <td>0</td>\n",
       "      <td>0</td>\n",
       "    </tr>\n",
       "  </tbody>\n",
       "</table>\n",
       "<p>3658 rows × 6 columns</p>\n",
       "</div>"
      ],
      "text/plain": [
       "      male  currentSmoker  BPMeds  prevalentStroke  prevalentHyp  diabetes\n",
       "0        1              0     0.0                0             0         0\n",
       "1        0              0     0.0                0             0         0\n",
       "2        1              1     0.0                0             0         0\n",
       "3        0              1     0.0                0             1         0\n",
       "4        0              1     0.0                0             0         0\n",
       "...    ...            ...     ...              ...           ...       ...\n",
       "4233     1              1     0.0                0             1         0\n",
       "4234     1              1     0.0                0             0         0\n",
       "4237     0              0     0.0                0             0         0\n",
       "4238     1              0     0.0                0             1         0\n",
       "4239     0              1     0.0                0             0         0\n",
       "\n",
       "[3658 rows x 6 columns]"
      ]
     },
     "execution_count": 21,
     "metadata": {},
     "output_type": "execute_result"
    }
   ],
   "source": [
    "categorical_features"
   ]
  },
  {
   "cell_type": "code",
   "execution_count": 22,
   "id": "15ed0d3e-8976-46b3-90eb-8d5de9dd0a15",
   "metadata": {},
   "outputs": [],
   "source": [
    "from sklearn.feature_selection import chi2\n",
    "x = categorical_features\n",
    "y = data['TenYearCHD']"
   ]
  },
  {
   "cell_type": "code",
   "execution_count": 23,
   "id": "7c80292c-79d9-4883-9943-ad71cb34eb58",
   "metadata": {},
   "outputs": [],
   "source": [
    "chi_scores = chi2(x, y)"
   ]
  },
  {
   "cell_type": "code",
   "execution_count": 24,
   "id": "19b7aa40-b3d1-4add-b76e-277bb65a21ad",
   "metadata": {},
   "outputs": [
    {
     "data": {
      "text/plain": [
       "(array([17.10775088,  0.68647384, 19.54090634,  8.5078328 , 82.84545536,\n",
       "        31.06762071]),\n",
       " array([3.53178759e-05, 4.07366355e-01, 9.84683480e-06, 3.53620967e-03,\n",
       "        8.87260079e-20, 2.49193807e-08]))"
      ]
     },
     "execution_count": 24,
     "metadata": {},
     "output_type": "execute_result"
    }
   ],
   "source": [
    "chi_scores"
   ]
  },
  {
   "cell_type": "code",
   "execution_count": 25,
   "id": "3011e990-87f6-402e-98f2-ceb3e2f71246",
   "metadata": {},
   "outputs": [
    {
     "data": {
      "text/plain": [
       "<Axes: >"
      ]
     },
     "execution_count": 25,
     "metadata": {},
     "output_type": "execute_result"
    },
    {
     "data": {
      "image/png": "[encoded data removed]",
      "text/plain": [
       "<Figure size 640x480 with 1 Axes>"
      ]
     },
     "metadata": {},
     "output_type": "display_data"
    }
   ],
   "source": [
    "# higher the chi value, higher the importance\n",
    "chi_values = pd.Series(chi_scores[0], index=x.columns)\n",
    "chi_values.sort_values(ascending=False, inplace=True)\n",
    "chi_values.plot.bar()"
   ]
  },
  {
   "cell_type": "code",
   "execution_count": 26,
   "id": "12addcf5-26d9-4f14-9a83-669e76c4fd21",
   "metadata": {},
   "outputs": [
    {
     "data": {
      "text/plain": [
       "<Axes: >"
      ]
     },
     "execution_count": 26,
     "metadata": {},
     "output_type": "execute_result"
    },
    {
     "data": {
      "image/png": "[encoded data removed]",
      "text/plain": [
       "<Figure size 640x480 with 1 Axes>"
      ]
     },
     "metadata": {},
     "output_type": "display_data"
    }
   ],
   "source": [
    "# if p-value > 0.05, lower the importance\n",
    "p_values = pd.Series(chi_scores[1], index=x.columns)\n",
    "p_values.sort_values(ascending=False, inplace=True)\n",
    "p_values.plot.bar()"
   ]
  },
  {
   "cell_type": "code",
   "execution_count": 27,
   "id": "e2796e2d-bf8d-4656-9bbd-cfbaf2d87022",
   "metadata": {},
   "outputs": [
    {
     "data": {
      "text/html": [
       "<div>\n",
       "<style scoped>\n",
       "    .dataframe tbody tr th:only-of-type {\n",
       "        vertical-align: middle;\n",
       "    }\n",
       "\n",
       "    .dataframe tbody tr th {\n",
       "        vertical-align: top;\n",
       "    }\n",
       "\n",
       "    .dataframe thead th {\n",
       "        text-align: right;\n",
       "    }\n",
       "</style>\n",
       "<table border=\"1\" class=\"dataframe\">\n",
       "  <thead>\n",
       "    <tr style=\"text-align: right;\">\n",
       "      <th></th>\n",
       "      <th>male</th>\n",
       "      <th>age</th>\n",
       "      <th>education</th>\n",
       "      <th>cigsPerDay</th>\n",
       "      <th>BPMeds</th>\n",
       "      <th>prevalentStroke</th>\n",
       "      <th>prevalentHyp</th>\n",
       "      <th>diabetes</th>\n",
       "      <th>totChol</th>\n",
       "      <th>sysBP</th>\n",
       "      <th>diaBP</th>\n",
       "      <th>BMI</th>\n",
       "      <th>heartRate</th>\n",
       "      <th>glucose</th>\n",
       "      <th>TenYearCHD</th>\n",
       "    </tr>\n",
       "  </thead>\n",
       "  <tbody>\n",
       "    <tr>\n",
       "      <th>0</th>\n",
       "      <td>1</td>\n",
       "      <td>39</td>\n",
       "      <td>4.0</td>\n",
       "      <td>0.000000</td>\n",
       "      <td>0.0</td>\n",
       "      <td>0</td>\n",
       "      <td>0</td>\n",
       "      <td>0</td>\n",
       "      <td>195.0</td>\n",
       "      <td>4.672829</td>\n",
       "      <td>70.0</td>\n",
       "      <td>26.97</td>\n",
       "      <td>80.0</td>\n",
       "      <td>4.356709</td>\n",
       "      <td>0</td>\n",
       "    </tr>\n",
       "    <tr>\n",
       "      <th>1</th>\n",
       "      <td>0</td>\n",
       "      <td>46</td>\n",
       "      <td>2.0</td>\n",
       "      <td>0.000000</td>\n",
       "      <td>0.0</td>\n",
       "      <td>0</td>\n",
       "      <td>0</td>\n",
       "      <td>0</td>\n",
       "      <td>250.0</td>\n",
       "      <td>4.804021</td>\n",
       "      <td>81.0</td>\n",
       "      <td>28.73</td>\n",
       "      <td>95.0</td>\n",
       "      <td>4.343805</td>\n",
       "      <td>0</td>\n",
       "    </tr>\n",
       "    <tr>\n",
       "      <th>2</th>\n",
       "      <td>1</td>\n",
       "      <td>48</td>\n",
       "      <td>1.0</td>\n",
       "      <td>3.044522</td>\n",
       "      <td>0.0</td>\n",
       "      <td>0</td>\n",
       "      <td>0</td>\n",
       "      <td>0</td>\n",
       "      <td>245.0</td>\n",
       "      <td>4.855929</td>\n",
       "      <td>80.0</td>\n",
       "      <td>25.34</td>\n",
       "      <td>75.0</td>\n",
       "      <td>4.262680</td>\n",
       "      <td>0</td>\n",
       "    </tr>\n",
       "    <tr>\n",
       "      <th>3</th>\n",
       "      <td>0</td>\n",
       "      <td>61</td>\n",
       "      <td>3.0</td>\n",
       "      <td>3.433987</td>\n",
       "      <td>0.0</td>\n",
       "      <td>0</td>\n",
       "      <td>1</td>\n",
       "      <td>0</td>\n",
       "      <td>225.0</td>\n",
       "      <td>5.017280</td>\n",
       "      <td>95.0</td>\n",
       "      <td>28.58</td>\n",
       "      <td>65.0</td>\n",
       "      <td>4.644391</td>\n",
       "      <td>1</td>\n",
       "    </tr>\n",
       "    <tr>\n",
       "      <th>4</th>\n",
       "      <td>0</td>\n",
       "      <td>46</td>\n",
       "      <td>3.0</td>\n",
       "      <td>3.178054</td>\n",
       "      <td>0.0</td>\n",
       "      <td>0</td>\n",
       "      <td>0</td>\n",
       "      <td>0</td>\n",
       "      <td>285.0</td>\n",
       "      <td>4.875197</td>\n",
       "      <td>84.0</td>\n",
       "      <td>23.10</td>\n",
       "      <td>85.0</td>\n",
       "      <td>4.454347</td>\n",
       "      <td>0</td>\n",
       "    </tr>\n",
       "  </tbody>\n",
       "</table>\n",
       "</div>"
      ],
      "text/plain": [
       "   male  age  education  cigsPerDay  BPMeds  prevalentStroke  prevalentHyp  \\\n",
       "0     1   39        4.0    0.000000     0.0                0             0   \n",
       "1     0   46        2.0    0.000000     0.0                0             0   \n",
       "2     1   48        1.0    3.044522     0.0                0             0   \n",
       "3     0   61        3.0    3.433987     0.0                0             1   \n",
       "4     0   46        3.0    3.178054     0.0                0             0   \n",
       "\n",
       "   diabetes  totChol     sysBP  diaBP    BMI  heartRate   glucose  TenYearCHD  \n",
       "0         0    195.0  4.672829   70.0  26.97       80.0  4.356709           0  \n",
       "1         0    250.0  4.804021   81.0  28.73       95.0  4.343805           0  \n",
       "2         0    245.0  4.855929   80.0  25.34       75.0  4.262680           0  \n",
       "3         0    225.0  5.017280   95.0  28.58       65.0  4.644391           1  \n",
       "4         0    285.0  4.875197   84.0  23.10       85.0  4.454347           0  "
      ]
     },
     "execution_count": 27,
     "metadata": {},
     "output_type": "execute_result"
    }
   ],
   "source": [
    "data_features = data.drop(['currentSmoker'], axis=1)\n",
    "data_features.head()"
   ]
  },
  {
   "cell_type": "markdown",
   "id": "f518f4a2-5a34-4b4e-82b0-5c8e844c9036",
   "metadata": {},
   "source": [
    "In this dataset, the p-value for the 'is_smoking' feature is greater than 0.05. Therefore, we fail to reject the null hypothesis, indicating that this feature is not statistically significant for our analysis."
   ]
  },
  {
   "cell_type": "markdown",
   "id": "9f8bdf76-9bbe-4453-90e1-98fdac2dc7f0",
   "metadata": {},
   "source": [
    "# SMOTE"
   ]
  },
  {
   "cell_type": "markdown",
   "id": "2cfa71ef-47cd-4367-8088-4a0b2c955cd8",
   "metadata": {},
   "source": [
    "SMOTE(Synthetic Minority Oversampling Technique) generates synthetic samples for the minority class samples to balance imbalanced datasets\n",
    "and it does that by finding its k-nearest neighbors, and generating new points along the lines connecting it to one or more of these neighbors"
   ]
  },
  {
   "cell_type": "code",
   "execution_count": 31,
   "id": "d249481e-4605-4ab5-a240-bb9baa94d7e7",
   "metadata": {},
   "outputs": [],
   "source": [
    "x = data_features.iloc[:, 0:14]\n",
    "y = data_features.iloc[:, 14]"
   ]
  },
  {
   "cell_type": "code",
   "execution_count": 32,
   "id": "afd87733-f6ab-4740-8464-c59e98e771f9",
   "metadata": {},
   "outputs": [],
   "source": [
    "from imblearn.over_sampling import SMOTE\n",
    "from imblearn.under_sampling import RandomUnderSampler\n",
    "from imblearn.pipeline import Pipeline\n",
    "from collections import Counter"
   ]
  },
  {
   "cell_type": "code",
   "execution_count": 33,
   "id": "74451ff2-1038-4e72-8f12-2a4e976dea55",
   "metadata": {},
   "outputs": [],
   "source": [
    "# The numbers before SMOTE\n",
    "num_before = dict(Counter(y))\n",
    "\n",
    "# Perform SMOTE\n",
    "# Define Pipeline\n",
    "over=SMOTE(sampling_strategy=0.8)\n",
    "under=RandomUnderSampler(sampling_strategy=0.8)\n",
    "steps=[(\"o\",over),(\"u\",under)]\n",
    "pipeline = Pipeline(steps=steps)\n",
    "\n",
    "# Transform the dataset\n",
    "X_smote,y_smote=pipeline.fit_resample(x,y)\n",
    "\n",
    "# The numbers after SMOTE\n",
    "num_after=dict(Counter(y_smote))"
   ]
  },
  {
   "cell_type": "code",
   "execution_count": 34,
   "id": "71951322-5394-4c9e-a827-04b319bc0779",
   "metadata": {},
   "outputs": [
    {
     "name": "stdout",
     "output_type": "stream",
     "text": [
      "{0: 3101, 1: 557} {0: 3100, 1: 2480}\n"
     ]
    }
   ],
   "source": [
    "print(num_before,num_after)"
   ]
  },
  {
   "cell_type": "code",
   "execution_count": 35,
   "id": "a372a328-083d-4108-bd45-ec12703e92e1",
   "metadata": {},
   "outputs": [
    {
     "data": {
      "image/png": "[encoded data removed]",
      "text/plain": [
       "<Figure size 1500x600 with 2 Axes>"
      ]
     },
     "metadata": {},
     "output_type": "display_data"
    }
   ],
   "source": [
    "labels = [\"Negative Cases\",\"Positive Cases\"]\n",
    "plt.figure(figsize=(15,6))\n",
    "plt.subplot(1,2,1)\n",
    "sns.barplot(x=labels, y=list(num_before.values()))\n",
    "plt.title(\"Numbers Before Balancing\")\n",
    "plt.subplot(1,2,2)\n",
    "sns.barplot(x=labels, y=list(num_after.values()))\n",
    "plt.title(\"Numbers After Balancing\")\n",
    "plt.show()"
   ]
  },
  {
   "cell_type": "code",
   "execution_count": 150,
   "id": "9a152224-6e7e-47af-a6c8-426dba59069f",
   "metadata": {},
   "outputs": [
    {
     "data": {
      "text/html": [
       "<div>\n",
       "<style scoped>\n",
       "    .dataframe tbody tr th:only-of-type {\n",
       "        vertical-align: middle;\n",
       "    }\n",
       "\n",
       "    .dataframe tbody tr th {\n",
       "        vertical-align: top;\n",
       "    }\n",
       "\n",
       "    .dataframe thead th {\n",
       "        text-align: right;\n",
       "    }\n",
       "</style>\n",
       "<table border=\"1\" class=\"dataframe\">\n",
       "  <thead>\n",
       "    <tr style=\"text-align: right;\">\n",
       "      <th></th>\n",
       "      <th>male</th>\n",
       "      <th>age</th>\n",
       "      <th>education</th>\n",
       "      <th>cigsPerDay</th>\n",
       "      <th>BPMeds</th>\n",
       "      <th>prevalentStroke</th>\n",
       "      <th>prevalentHyp</th>\n",
       "      <th>diabetes</th>\n",
       "      <th>totChol</th>\n",
       "      <th>sysBP</th>\n",
       "      <th>diaBP</th>\n",
       "      <th>BMI</th>\n",
       "      <th>heartRate</th>\n",
       "      <th>glucose</th>\n",
       "      <th>TenYearCHD</th>\n",
       "    </tr>\n",
       "  </thead>\n",
       "  <tbody>\n",
       "    <tr>\n",
       "      <th>3348</th>\n",
       "      <td>0</td>\n",
       "      <td>38</td>\n",
       "      <td>3.0</td>\n",
       "      <td>3.044522</td>\n",
       "      <td>0.0</td>\n",
       "      <td>0</td>\n",
       "      <td>0</td>\n",
       "      <td>0</td>\n",
       "      <td>167.0</td>\n",
       "      <td>4.663439</td>\n",
       "      <td>70.0</td>\n",
       "      <td>19.76</td>\n",
       "      <td>80.0</td>\n",
       "      <td>4.394449</td>\n",
       "      <td>0</td>\n",
       "    </tr>\n",
       "    <tr>\n",
       "      <th>2172</th>\n",
       "      <td>0</td>\n",
       "      <td>37</td>\n",
       "      <td>3.0</td>\n",
       "      <td>2.772589</td>\n",
       "      <td>0.0</td>\n",
       "      <td>0</td>\n",
       "      <td>0</td>\n",
       "      <td>0</td>\n",
       "      <td>222.0</td>\n",
       "      <td>4.709530</td>\n",
       "      <td>71.0</td>\n",
       "      <td>18.30</td>\n",
       "      <td>80.0</td>\n",
       "      <td>4.219508</td>\n",
       "      <td>0</td>\n",
       "    </tr>\n",
       "    <tr>\n",
       "      <th>2451</th>\n",
       "      <td>1</td>\n",
       "      <td>52</td>\n",
       "      <td>2.0</td>\n",
       "      <td>3.044522</td>\n",
       "      <td>0.0</td>\n",
       "      <td>0</td>\n",
       "      <td>0</td>\n",
       "      <td>0</td>\n",
       "      <td>240.0</td>\n",
       "      <td>4.912655</td>\n",
       "      <td>82.0</td>\n",
       "      <td>27.73</td>\n",
       "      <td>100.0</td>\n",
       "      <td>4.477337</td>\n",
       "      <td>0</td>\n",
       "    </tr>\n",
       "    <tr>\n",
       "      <th>3187</th>\n",
       "      <td>1</td>\n",
       "      <td>43</td>\n",
       "      <td>1.0</td>\n",
       "      <td>3.713572</td>\n",
       "      <td>0.0</td>\n",
       "      <td>0</td>\n",
       "      <td>1</td>\n",
       "      <td>0</td>\n",
       "      <td>212.0</td>\n",
       "      <td>4.912655</td>\n",
       "      <td>86.0</td>\n",
       "      <td>30.22</td>\n",
       "      <td>100.0</td>\n",
       "      <td>4.330733</td>\n",
       "      <td>0</td>\n",
       "    </tr>\n",
       "    <tr>\n",
       "      <th>3564</th>\n",
       "      <td>1</td>\n",
       "      <td>46</td>\n",
       "      <td>1.0</td>\n",
       "      <td>3.044522</td>\n",
       "      <td>0.0</td>\n",
       "      <td>0</td>\n",
       "      <td>0</td>\n",
       "      <td>0</td>\n",
       "      <td>247.0</td>\n",
       "      <td>4.905275</td>\n",
       "      <td>96.0</td>\n",
       "      <td>32.47</td>\n",
       "      <td>80.0</td>\n",
       "      <td>4.290459</td>\n",
       "      <td>0</td>\n",
       "    </tr>\n",
       "  </tbody>\n",
       "</table>\n",
       "</div>"
      ],
      "text/plain": [
       "      male  age  education  cigsPerDay  BPMeds  prevalentStroke  prevalentHyp  \\\n",
       "3348     0   38        3.0    3.044522     0.0                0             0   \n",
       "2172     0   37        3.0    2.772589     0.0                0             0   \n",
       "2451     1   52        2.0    3.044522     0.0                0             0   \n",
       "3187     1   43        1.0    3.713572     0.0                0             1   \n",
       "3564     1   46        1.0    3.044522     0.0                0             0   \n",
       "\n",
       "      diabetes  totChol     sysBP  diaBP    BMI  heartRate   glucose  \\\n",
       "3348         0    167.0  4.663439   70.0  19.76       80.0  4.394449   \n",
       "2172         0    222.0  4.709530   71.0  18.30       80.0  4.219508   \n",
       "2451         0    240.0  4.912655   82.0  27.73      100.0  4.477337   \n",
       "3187         0    212.0  4.912655   86.0  30.22      100.0  4.330733   \n",
       "3564         0    247.0  4.905275   96.0  32.47       80.0  4.290459   \n",
       "\n",
       "      TenYearCHD  \n",
       "3348           0  \n",
       "2172           0  \n",
       "2451           0  \n",
       "3187           0  \n",
       "3564           0  "
      ]
     },
     "execution_count": 150,
     "metadata": {},
     "output_type": "execute_result"
    }
   ],
   "source": [
    "# new dataset\n",
    "new_data = pd.concat([pd.DataFrame(X_smote), pd.DataFrame(y_smote)], axis=1)\n",
    "new_data.columns = ['male','age','education' ,'cigsPerDay', 'BPMeds', 'prevalentStroke', 'prevalentHyp',\n",
    "'diabetes', 'totChol', 'sysBP', 'diaBP','BMI', 'heartRate', 'glucose', 'TenYearCHD']\n",
    "new_data.head()"
   ]
  },
  {
   "cell_type": "markdown",
   "id": "c34077a8-d042-4dd3-a46a-2fc97f294e73",
   "metadata": {},
   "source": [
    "# scaling the data"
   ]
  },
  {
   "cell_type": "markdown",
   "id": "59d6337c-da20-4c16-88b8-3ee4c3f04778",
   "metadata": {},
   "source": [
    "Standard Scaling transforms features to have a mean of 0 and a standard deviation of 1, helping to normalize data by removing the influence of differing units or scales, which improves model performance."
   ]
  },
  {
   "cell_type": "code",
   "execution_count": 152,
   "id": "a60e4a32-a350-4ef8-8677-821a6f051835",
   "metadata": {},
   "outputs": [
    {
     "data": {
      "text/html": [
       "<div>\n",
       "<style scoped>\n",
       "    .dataframe tbody tr th:only-of-type {\n",
       "        vertical-align: middle;\n",
       "    }\n",
       "\n",
       "    .dataframe tbody tr th {\n",
       "        vertical-align: top;\n",
       "    }\n",
       "\n",
       "    .dataframe thead th {\n",
       "        text-align: right;\n",
       "    }\n",
       "</style>\n",
       "<table border=\"1\" class=\"dataframe\">\n",
       "  <thead>\n",
       "    <tr style=\"text-align: right;\">\n",
       "      <th></th>\n",
       "      <th>male</th>\n",
       "      <th>age</th>\n",
       "      <th>education</th>\n",
       "      <th>cigsPerDay</th>\n",
       "      <th>BPMeds</th>\n",
       "      <th>prevalentStroke</th>\n",
       "      <th>prevalentHyp</th>\n",
       "      <th>diabetes</th>\n",
       "      <th>totChol</th>\n",
       "      <th>sysBP</th>\n",
       "      <th>diaBP</th>\n",
       "      <th>BMI</th>\n",
       "      <th>heartRate</th>\n",
       "      <th>glucose</th>\n",
       "    </tr>\n",
       "  </thead>\n",
       "  <tbody>\n",
       "    <tr>\n",
       "      <th>3348</th>\n",
       "      <td>0</td>\n",
       "      <td>38</td>\n",
       "      <td>3.0</td>\n",
       "      <td>3.044522</td>\n",
       "      <td>0.0</td>\n",
       "      <td>0</td>\n",
       "      <td>0</td>\n",
       "      <td>0</td>\n",
       "      <td>167.0</td>\n",
       "      <td>4.663439</td>\n",
       "      <td>70.0</td>\n",
       "      <td>19.76</td>\n",
       "      <td>80.0</td>\n",
       "      <td>4.394449</td>\n",
       "    </tr>\n",
       "    <tr>\n",
       "      <th>2172</th>\n",
       "      <td>0</td>\n",
       "      <td>37</td>\n",
       "      <td>3.0</td>\n",
       "      <td>2.772589</td>\n",
       "      <td>0.0</td>\n",
       "      <td>0</td>\n",
       "      <td>0</td>\n",
       "      <td>0</td>\n",
       "      <td>222.0</td>\n",
       "      <td>4.709530</td>\n",
       "      <td>71.0</td>\n",
       "      <td>18.30</td>\n",
       "      <td>80.0</td>\n",
       "      <td>4.219508</td>\n",
       "    </tr>\n",
       "    <tr>\n",
       "      <th>2451</th>\n",
       "      <td>1</td>\n",
       "      <td>52</td>\n",
       "      <td>2.0</td>\n",
       "      <td>3.044522</td>\n",
       "      <td>0.0</td>\n",
       "      <td>0</td>\n",
       "      <td>0</td>\n",
       "      <td>0</td>\n",
       "      <td>240.0</td>\n",
       "      <td>4.912655</td>\n",
       "      <td>82.0</td>\n",
       "      <td>27.73</td>\n",
       "      <td>100.0</td>\n",
       "      <td>4.477337</td>\n",
       "    </tr>\n",
       "    <tr>\n",
       "      <th>3187</th>\n",
       "      <td>1</td>\n",
       "      <td>43</td>\n",
       "      <td>1.0</td>\n",
       "      <td>3.713572</td>\n",
       "      <td>0.0</td>\n",
       "      <td>0</td>\n",
       "      <td>1</td>\n",
       "      <td>0</td>\n",
       "      <td>212.0</td>\n",
       "      <td>4.912655</td>\n",
       "      <td>86.0</td>\n",
       "      <td>30.22</td>\n",
       "      <td>100.0</td>\n",
       "      <td>4.330733</td>\n",
       "    </tr>\n",
       "    <tr>\n",
       "      <th>3564</th>\n",
       "      <td>1</td>\n",
       "      <td>46</td>\n",
       "      <td>1.0</td>\n",
       "      <td>3.044522</td>\n",
       "      <td>0.0</td>\n",
       "      <td>0</td>\n",
       "      <td>0</td>\n",
       "      <td>0</td>\n",
       "      <td>247.0</td>\n",
       "      <td>4.905275</td>\n",
       "      <td>96.0</td>\n",
       "      <td>32.47</td>\n",
       "      <td>80.0</td>\n",
       "      <td>4.290459</td>\n",
       "    </tr>\n",
       "  </tbody>\n",
       "</table>\n",
       "</div>"
      ],
      "text/plain": [
       "      male  age  education  cigsPerDay  BPMeds  prevalentStroke  prevalentHyp  \\\n",
       "3348     0   38        3.0    3.044522     0.0                0             0   \n",
       "2172     0   37        3.0    2.772589     0.0                0             0   \n",
       "2451     1   52        2.0    3.044522     0.0                0             0   \n",
       "3187     1   43        1.0    3.713572     0.0                0             1   \n",
       "3564     1   46        1.0    3.044522     0.0                0             0   \n",
       "\n",
       "      diabetes  totChol     sysBP  diaBP    BMI  heartRate   glucose  \n",
       "3348         0    167.0  4.663439   70.0  19.76       80.0  4.394449  \n",
       "2172         0    222.0  4.709530   71.0  18.30       80.0  4.219508  \n",
       "2451         0    240.0  4.912655   82.0  27.73      100.0  4.477337  \n",
       "3187         0    212.0  4.912655   86.0  30.22      100.0  4.330733  \n",
       "3564         0    247.0  4.905275   96.0  32.47       80.0  4.290459  "
      ]
     },
     "execution_count": 152,
     "metadata": {},
     "output_type": "execute_result"
    }
   ],
   "source": [
    "X_new = new_data.iloc[:, 0:14]\n",
    "y_new= new_data.iloc[:,-1]\n",
    "X_new.head()"
   ]
  },
  {
   "cell_type": "code",
   "execution_count": 154,
   "id": "9d7bf930-96b3-4c4f-bd75-5ca53441b2a2",
   "metadata": {},
   "outputs": [
    {
     "data": {
      "text/plain": [
       "3348    0\n",
       "2172    0\n",
       "2451    0\n",
       "3187    0\n",
       "3564    0\n",
       "Name: TenYearCHD, dtype: int64"
      ]
     },
     "execution_count": 154,
     "metadata": {},
     "output_type": "execute_result"
    }
   ],
   "source": [
    "y_new.head()"
   ]
  },
  {
   "cell_type": "code",
   "execution_count": 156,
   "id": "0cd6ed0a-fb82-4ceb-9e56-f6502f68e09d",
   "metadata": {},
   "outputs": [],
   "source": [
    "from sklearn.preprocessing import StandardScaler"
   ]
  },
  {
   "cell_type": "code",
   "execution_count": 158,
   "id": "706d9a3f-085d-4c4a-8dc2-3a9a6eb3ae8d",
   "metadata": {},
   "outputs": [],
   "source": [
    "X_new_scaled=X_new.copy()"
   ]
  },
  {
   "cell_type": "code",
   "execution_count": 160,
   "id": "b0b48863-1fe8-46aa-ae1d-b22b06e016aa",
   "metadata": {},
   "outputs": [],
   "source": [
    "X_new_scaled[X_new_scaled.columns]=StandardScaler().fit_transform(X_new[X_new.columns])"
   ]
  },
  {
   "cell_type": "code",
   "execution_count": 162,
   "id": "922d6644-2f49-469f-8fe0-5dd4f5f70fa7",
   "metadata": {},
   "outputs": [
    {
     "data": {
      "text/html": [
       "<div>\n",
       "<style scoped>\n",
       "    .dataframe tbody tr th:only-of-type {\n",
       "        vertical-align: middle;\n",
       "    }\n",
       "\n",
       "    .dataframe tbody tr th {\n",
       "        vertical-align: top;\n",
       "    }\n",
       "\n",
       "    .dataframe thead th {\n",
       "        text-align: right;\n",
       "    }\n",
       "</style>\n",
       "<table border=\"1\" class=\"dataframe\">\n",
       "  <thead>\n",
       "    <tr style=\"text-align: right;\">\n",
       "      <th></th>\n",
       "      <th>male</th>\n",
       "      <th>age</th>\n",
       "      <th>education</th>\n",
       "      <th>cigsPerDay</th>\n",
       "      <th>BPMeds</th>\n",
       "      <th>prevalentStroke</th>\n",
       "      <th>prevalentHyp</th>\n",
       "      <th>diabetes</th>\n",
       "      <th>totChol</th>\n",
       "      <th>sysBP</th>\n",
       "      <th>diaBP</th>\n",
       "      <th>BMI</th>\n",
       "      <th>heartRate</th>\n",
       "      <th>glucose</th>\n",
       "    </tr>\n",
       "  </thead>\n",
       "  <tbody>\n",
       "    <tr>\n",
       "      <th>3348</th>\n",
       "      <td>-0.819243</td>\n",
       "      <td>-1.557393</td>\n",
       "      <td>1.113891</td>\n",
       "      <td>1.191550</td>\n",
       "      <td>-0.242788</td>\n",
       "      <td>-0.061463</td>\n",
       "      <td>-0.703973</td>\n",
       "      <td>-0.14115</td>\n",
       "      <td>-1.596337</td>\n",
       "      <td>-1.505192</td>\n",
       "      <td>-1.148469</td>\n",
       "      <td>-1.592677</td>\n",
       "      <td>0.348302</td>\n",
       "      <td>-0.082714</td>\n",
       "    </tr>\n",
       "    <tr>\n",
       "      <th>2172</th>\n",
       "      <td>-0.819243</td>\n",
       "      <td>-1.676627</td>\n",
       "      <td>1.113891</td>\n",
       "      <td>0.998815</td>\n",
       "      <td>-0.242788</td>\n",
       "      <td>-0.061463</td>\n",
       "      <td>-0.703973</td>\n",
       "      <td>-0.14115</td>\n",
       "      <td>-0.393621</td>\n",
       "      <td>-1.222572</td>\n",
       "      <td>-1.069375</td>\n",
       "      <td>-1.962309</td>\n",
       "      <td>0.348302</td>\n",
       "      <td>-0.890551</td>\n",
       "    </tr>\n",
       "    <tr>\n",
       "      <th>2451</th>\n",
       "      <td>1.220639</td>\n",
       "      <td>0.111883</td>\n",
       "      <td>0.077406</td>\n",
       "      <td>1.191550</td>\n",
       "      <td>-0.242788</td>\n",
       "      <td>-0.061463</td>\n",
       "      <td>-0.703973</td>\n",
       "      <td>-0.14115</td>\n",
       "      <td>-0.000005</td>\n",
       "      <td>0.022940</td>\n",
       "      <td>-0.199339</td>\n",
       "      <td>0.425108</td>\n",
       "      <td>2.054699</td>\n",
       "      <td>0.300041</td>\n",
       "    </tr>\n",
       "    <tr>\n",
       "      <th>3187</th>\n",
       "      <td>1.220639</td>\n",
       "      <td>-0.961223</td>\n",
       "      <td>-0.959078</td>\n",
       "      <td>1.665743</td>\n",
       "      <td>-0.242788</td>\n",
       "      <td>-0.061463</td>\n",
       "      <td>1.420510</td>\n",
       "      <td>-0.14115</td>\n",
       "      <td>-0.612297</td>\n",
       "      <td>0.022940</td>\n",
       "      <td>0.117038</td>\n",
       "      <td>1.055508</td>\n",
       "      <td>2.054699</td>\n",
       "      <td>-0.376938</td>\n",
       "    </tr>\n",
       "    <tr>\n",
       "      <th>3564</th>\n",
       "      <td>1.220639</td>\n",
       "      <td>-0.603521</td>\n",
       "      <td>-0.959078</td>\n",
       "      <td>1.191550</td>\n",
       "      <td>-0.242788</td>\n",
       "      <td>-0.061463</td>\n",
       "      <td>-0.703973</td>\n",
       "      <td>-0.14115</td>\n",
       "      <td>0.153068</td>\n",
       "      <td>-0.022313</td>\n",
       "      <td>0.907979</td>\n",
       "      <td>1.625146</td>\n",
       "      <td>0.348302</td>\n",
       "      <td>-0.562914</td>\n",
       "    </tr>\n",
       "    <tr>\n",
       "      <th>...</th>\n",
       "      <td>...</td>\n",
       "      <td>...</td>\n",
       "      <td>...</td>\n",
       "      <td>...</td>\n",
       "      <td>...</td>\n",
       "      <td>...</td>\n",
       "      <td>...</td>\n",
       "      <td>...</td>\n",
       "      <td>...</td>\n",
       "      <td>...</td>\n",
       "      <td>...</td>\n",
       "      <td>...</td>\n",
       "      <td>...</td>\n",
       "      <td>...</td>\n",
       "    </tr>\n",
       "    <tr>\n",
       "      <th>5576</th>\n",
       "      <td>-0.819243</td>\n",
       "      <td>0.588819</td>\n",
       "      <td>-0.573110</td>\n",
       "      <td>-0.966274</td>\n",
       "      <td>-0.242788</td>\n",
       "      <td>-0.061463</td>\n",
       "      <td>-0.703973</td>\n",
       "      <td>-0.14115</td>\n",
       "      <td>-0.445499</td>\n",
       "      <td>0.945500</td>\n",
       "      <td>1.687999</td>\n",
       "      <td>0.290583</td>\n",
       "      <td>0.080561</td>\n",
       "      <td>0.002088</td>\n",
       "    </tr>\n",
       "    <tr>\n",
       "      <th>5577</th>\n",
       "      <td>-0.819243</td>\n",
       "      <td>0.111883</td>\n",
       "      <td>-0.763066</td>\n",
       "      <td>-0.966274</td>\n",
       "      <td>-0.242788</td>\n",
       "      <td>-0.061463</td>\n",
       "      <td>1.420510</td>\n",
       "      <td>-0.14115</td>\n",
       "      <td>-0.000005</td>\n",
       "      <td>1.591910</td>\n",
       "      <td>1.464132</td>\n",
       "      <td>0.867579</td>\n",
       "      <td>0.460514</td>\n",
       "      <td>-0.434246</td>\n",
       "    </tr>\n",
       "    <tr>\n",
       "      <th>5578</th>\n",
       "      <td>-0.819243</td>\n",
       "      <td>0.231117</td>\n",
       "      <td>1.113891</td>\n",
       "      <td>-0.023163</td>\n",
       "      <td>-0.242788</td>\n",
       "      <td>-0.061463</td>\n",
       "      <td>-0.703973</td>\n",
       "      <td>-0.14115</td>\n",
       "      <td>-0.218680</td>\n",
       "      <td>-0.374670</td>\n",
       "      <td>-0.465991</td>\n",
       "      <td>-0.181803</td>\n",
       "      <td>-0.014934</td>\n",
       "      <td>0.141357</td>\n",
       "    </tr>\n",
       "    <tr>\n",
       "      <th>5579</th>\n",
       "      <td>-0.819243</td>\n",
       "      <td>1.781160</td>\n",
       "      <td>0.867214</td>\n",
       "      <td>-0.966274</td>\n",
       "      <td>-0.242788</td>\n",
       "      <td>-0.061463</td>\n",
       "      <td>-0.703973</td>\n",
       "      <td>-0.14115</td>\n",
       "      <td>0.231682</td>\n",
       "      <td>-0.517678</td>\n",
       "      <td>-0.195540</td>\n",
       "      <td>-0.903398</td>\n",
       "      <td>-0.982260</td>\n",
       "      <td>-0.226716</td>\n",
       "    </tr>\n",
       "    <tr>\n",
       "      <th>5580</th>\n",
       "      <td>-0.819243</td>\n",
       "      <td>1.304223</td>\n",
       "      <td>0.477551</td>\n",
       "      <td>-0.133225</td>\n",
       "      <td>-0.242788</td>\n",
       "      <td>-0.061463</td>\n",
       "      <td>1.420510</td>\n",
       "      <td>-0.14115</td>\n",
       "      <td>0.728132</td>\n",
       "      <td>1.878239</td>\n",
       "      <td>1.012096</td>\n",
       "      <td>-0.134668</td>\n",
       "      <td>0.084794</td>\n",
       "      <td>0.896480</td>\n",
       "    </tr>\n",
       "  </tbody>\n",
       "</table>\n",
       "<p>5580 rows × 14 columns</p>\n",
       "</div>"
      ],
      "text/plain": [
       "          male       age  education  cigsPerDay    BPMeds  prevalentStroke  \\\n",
       "3348 -0.819243 -1.557393   1.113891    1.191550 -0.242788        -0.061463   \n",
       "2172 -0.819243 -1.676627   1.113891    0.998815 -0.242788        -0.061463   \n",
       "2451  1.220639  0.111883   0.077406    1.191550 -0.242788        -0.061463   \n",
       "3187  1.220639 -0.961223  -0.959078    1.665743 -0.242788        -0.061463   \n",
       "3564  1.220639 -0.603521  -0.959078    1.191550 -0.242788        -0.061463   \n",
       "...        ...       ...        ...         ...       ...              ...   \n",
       "5576 -0.819243  0.588819  -0.573110   -0.966274 -0.242788        -0.061463   \n",
       "5577 -0.819243  0.111883  -0.763066   -0.966274 -0.242788        -0.061463   \n",
       "5578 -0.819243  0.231117   1.113891   -0.023163 -0.242788        -0.061463   \n",
       "5579 -0.819243  1.781160   0.867214   -0.966274 -0.242788        -0.061463   \n",
       "5580 -0.819243  1.304223   0.477551   -0.133225 -0.242788        -0.061463   \n",
       "\n",
       "      prevalentHyp  diabetes   totChol     sysBP     diaBP       BMI  \\\n",
       "3348     -0.703973  -0.14115 -1.596337 -1.505192 -1.148469 -1.592677   \n",
       "2172     -0.703973  -0.14115 -0.393621 -1.222572 -1.069375 -1.962309   \n",
       "2451     -0.703973  -0.14115 -0.000005  0.022940 -0.199339  0.425108   \n",
       "3187      1.420510  -0.14115 -0.612297  0.022940  0.117038  1.055508   \n",
       "3564     -0.703973  -0.14115  0.153068 -0.022313  0.907979  1.625146   \n",
       "...            ...       ...       ...       ...       ...       ...   \n",
       "5576     -0.703973  -0.14115 -0.445499  0.945500  1.687999  0.290583   \n",
       "5577      1.420510  -0.14115 -0.000005  1.591910  1.464132  0.867579   \n",
       "5578     -0.703973  -0.14115 -0.218680 -0.374670 -0.465991 -0.181803   \n",
       "5579     -0.703973  -0.14115  0.231682 -0.517678 -0.195540 -0.903398   \n",
       "5580      1.420510  -0.14115  0.728132  1.878239  1.012096 -0.134668   \n",
       "\n",
       "      heartRate   glucose  \n",
       "3348   0.348302 -0.082714  \n",
       "2172   0.348302 -0.890551  \n",
       "2451   2.054699  0.300041  \n",
       "3187   2.054699 -0.376938  \n",
       "3564   0.348302 -0.562914  \n",
       "...         ...       ...  \n",
       "5576   0.080561  0.002088  \n",
       "5577   0.460514 -0.434246  \n",
       "5578  -0.014934  0.141357  \n",
       "5579  -0.982260 -0.226716  \n",
       "5580   0.084794  0.896480  \n",
       "\n",
       "[5580 rows x 14 columns]"
      ]
     },
     "execution_count": 162,
     "metadata": {},
     "output_type": "execute_result"
    }
   ],
   "source": [
    "X_new_scaled"
   ]
  },
  {
   "cell_type": "markdown",
   "id": "8c7c246f-0d62-4595-9fa0-80fc43b2b583",
   "metadata": {},
   "source": [
    "# splitting training and testing data"
   ]
  },
  {
   "cell_type": "code",
   "execution_count": 165,
   "id": "05367e08-5cf8-4f0f-bad1-943f1126663c",
   "metadata": {},
   "outputs": [],
   "source": [
    "from sklearn.model_selection import train_test_split\n",
    "X_train,X_test,y_train,y_test = train_test_split(X_new_scaled, y_new, test_size=0.2, random_state=42)"
   ]
  },
  {
   "cell_type": "code",
   "execution_count": 167,
   "id": "93dee948-a8ab-4ad8-b0b9-226280bf7ff1",
   "metadata": {},
   "outputs": [],
   "source": [
    "X_train=np.array(X_train)\n",
    "X_test=np.array(X_test)\n",
    "y_train=np.array(y_train)\n",
    "y_test=np.array(y_test)"
   ]
  },
  {
   "cell_type": "code",
   "execution_count": 169,
   "id": "13cba20d-50b2-4119-afe2-578408fd6cb4",
   "metadata": {},
   "outputs": [],
   "source": [
    "from sklearn.metrics import accuracy_score\n",
    "from sklearn.metrics import f1_score"
   ]
  },
  {
   "cell_type": "markdown",
   "id": "3e97f3d2-2309-4417-bd16-ba178fef4c40",
   "metadata": {},
   "source": [
    "# Decision Tree CLassifier"
   ]
  },
  {
   "cell_type": "code",
   "execution_count": 172,
   "id": "dffbe8e8-5ba2-4cab-aacd-c43d11ff6ef8",
   "metadata": {},
   "outputs": [],
   "source": [
    "from sklearn.tree import DecisionTreeClassifier\n",
    "tree=DecisionTreeClassifier(random_state=42)"
   ]
  },
  {
   "cell_type": "code",
   "execution_count": 174,
   "id": "1b572c88-5d68-436d-aeb1-ab2c7d326278",
   "metadata": {},
   "outputs": [],
   "source": [
    "tree_clf=tree.fit(X_train,y_train)"
   ]
  },
  {
   "cell_type": "code",
   "execution_count": 176,
   "id": "f5d1ac2e-0a33-4933-8dfa-e6881011cd0c",
   "metadata": {},
   "outputs": [],
   "source": [
    "tree_train_pred = tree_clf.predict(X_train)\n",
    "tree_test_pred = tree_clf.predict(X_test)\n",
    "\n",
    "tree_train_acc = accuracy_score(y_train , tree_train_pred)\n",
    "tree_test_acc = accuracy_score(y_test , tree_test_pred)\n",
    "\n",
    "tree_train_f1 = f1_score(y_train , tree_train_pred)\n",
    "tree_test_f1 = f1_score(y_test , tree_test_pred)"
   ]
  },
  {
   "cell_type": "code",
   "execution_count": 178,
   "id": "c0bd0be2-f7ef-48ec-b390-a22826e68e72",
   "metadata": {},
   "outputs": [
    {
     "name": "stdout",
     "output_type": "stream",
     "text": [
      "1.0\n",
      "0.7903225806451613\n",
      "\n",
      "1.0\n",
      "0.7701375245579568\n"
     ]
    }
   ],
   "source": [
    "print(tree_train_acc)\n",
    "print(tree_test_acc)\n",
    "print()\n",
    "print(tree_train_f1)\n",
    "print(tree_test_f1)"
   ]
  },
  {
   "cell_type": "markdown",
   "id": "6e4001eb-ea1c-482d-b180-9d6b7e8f6b65",
   "metadata": {},
   "source": [
    "# svm"
   ]
  },
  {
   "cell_type": "code",
   "execution_count": 181,
   "id": "53a0a2a8-bd07-42bb-b7f6-c6845c0aab94",
   "metadata": {},
   "outputs": [],
   "source": [
    "from sklearn.svm import SVC"
   ]
  },
  {
   "cell_type": "code",
   "execution_count": 183,
   "id": "a3f80212-95b6-45de-8285-1393e4394e81",
   "metadata": {},
   "outputs": [],
   "source": [
    "svc_clf=SVC().fit(X_train,y_train)"
   ]
  },
  {
   "cell_type": "code",
   "execution_count": 184,
   "id": "22283a72-792d-4fb3-a698-f1d50f9f090b",
   "metadata": {},
   "outputs": [],
   "source": [
    "svc_train_pred = svc_clf.predict(X_train)\n",
    "svc_test_pred = svc_clf.predict(X_test)\n",
    "\n",
    "svc_train_acc = accuracy_score(y_train , svc_train_pred)\n",
    "svc_test_acc = accuracy_score(y_test , svc_test_pred)\n",
    "\n",
    "svc_train_f1 = f1_score(y_train , svc_train_pred)\n",
    "svc_test_f1 = f1_score(y_test , svc_test_pred)"
   ]
  },
  {
   "cell_type": "code",
   "execution_count": 186,
   "id": "125328c4-8f12-4d69-bd56-4682a5762e0f",
   "metadata": {},
   "outputs": [
    {
     "name": "stdout",
     "output_type": "stream",
     "text": [
      "0.77665770609319\n",
      "0.7455197132616488\n",
      "\n",
      "0.740026075619296\n",
      "0.69593147751606\n"
     ]
    }
   ],
   "source": [
    "print(svc_train_acc)\n",
    "print(svc_test_acc)\n",
    "print()\n",
    "print(svc_train_f1)\n",
    "print(svc_test_f1)"
   ]
  },
  {
   "cell_type": "markdown",
   "id": "c797f164-0cf0-4ee1-8342-daf962ea73b5",
   "metadata": {},
   "source": [
    "# Ada Boost Classifier"
   ]
  },
  {
   "cell_type": "code",
   "execution_count": 190,
   "id": "26f6b66a-f665-4b21-a18c-c950c7a0096e",
   "metadata": {},
   "outputs": [],
   "source": [
    "from sklearn.ensemble import AdaBoostClassifier\n",
    "adaboost=AdaBoostClassifier(random_state=42)"
   ]
  },
  {
   "cell_type": "code",
   "execution_count": 192,
   "id": "ba40cb99-34a8-4ce7-bd08-dae290ec4e44",
   "metadata": {},
   "outputs": [
    {
     "name": "stderr",
     "output_type": "stream",
     "text": [
      "C:\\Users\\Dalia\\anaconda3\\Lib\\site-packages\\sklearn\\ensemble\\_weight_boosting.py:527: FutureWarning: The SAMME.R algorithm (the default) is deprecated and will be removed in 1.6. Use the SAMME algorithm to circumvent this warning.\n",
      "  warnings.warn(\n"
     ]
    }
   ],
   "source": [
    "ada_clf=adaboost.fit(X_train,y_train)"
   ]
  },
  {
   "cell_type": "code",
   "execution_count": 194,
   "id": "bc292daa-a45c-49e8-b1d6-f112befae205",
   "metadata": {},
   "outputs": [],
   "source": [
    "ada_train_pred = ada_clf.predict(X_train)\n",
    "ada_test_pred = ada_clf.predict(X_test)\n",
    "\n",
    "ada_train_acc = accuracy_score(y_train , ada_train_pred)\n",
    "ada_test_acc = accuracy_score(y_test , ada_test_pred)\n",
    "\n",
    "ada_train_f1 = f1_score(y_train , ada_train_pred)\n",
    "ada_test_f1 = f1_score(y_test , ada_test_pred)"
   ]
  },
  {
   "cell_type": "code",
   "execution_count": 196,
   "id": "e399133e-904b-49d7-82c0-029ec68a0ef4",
   "metadata": {},
   "outputs": [
    {
     "name": "stderr",
     "output_type": "stream",
     "text": [
      "C:\\Users\\Dalia\\anaconda3\\Lib\\site-packages\\sklearn\\base.py:486: UserWarning: X has feature names, but AdaBoostClassifier was fitted without feature names\n",
      "  warnings.warn(\n"
     ]
    }
   ],
   "source": [
    "ada_test_pred = ada_clf.predict(data)\n"
   ]
  },
  {
   "cell_type": "code",
   "execution_count": 198,
   "id": "bc0c296d-5440-478d-ad6d-d7042737ecad",
   "metadata": {},
   "outputs": [
    {
     "name": "stdout",
     "output_type": "stream",
     "text": [
      "adaboost training accuracy : 0.821236559139785\n",
      "adaboost test accuracy : 0.8216845878136201\n",
      "\n",
      "adaboost training f1 score : 0.7852529601722282\n",
      "adaboost test f1 score : 0.7848648648648648\n"
     ]
    }
   ],
   "source": [
    "print('adaboost training accuracy :',ada_train_acc)\n",
    "print('adaboost test accuracy :',ada_test_acc)\n",
    "print()\n",
    "print('adaboost training f1 score :',ada_train_f1)\n",
    "print('adaboost test f1 score :',ada_test_f1)"
   ]
  },
  {
   "cell_type": "markdown",
   "id": "4d9ff8bd-ac88-4701-a1e9-78af8023a67c",
   "metadata": {},
   "source": [
    "# tunning decision tree classifier"
   ]
  },
  {
   "cell_type": "markdown",
   "id": "89b7efff-843a-45e3-b1a0-59865bf5b526",
   "metadata": {},
   "source": [
    "### now i will be tunning a decision tree classifier to use it in  the ada boost classifier"
   ]
  },
  {
   "cell_type": "code",
   "execution_count": 202,
   "id": "fdce14eb-a8c0-43a3-8664-fe8bb85b22df",
   "metadata": {},
   "outputs": [],
   "source": [
    "from sklearn.model_selection import ShuffleSplit\n",
    "from sklearn.model_selection import GridSearchCV\n",
    "from sklearn.metrics import make_scorer"
   ]
  },
  {
   "cell_type": "code",
   "execution_count": 204,
   "id": "88fa59ce-9ad8-4376-b2a3-ecb438acfbbb",
   "metadata": {},
   "outputs": [],
   "source": [
    "cv_sets = ShuffleSplit(n_splits = 5 , random_state = 42 , test_size = 0.2 , train_size = None)\n",
    "scorer=make_scorer(f1_score)"
   ]
  },
  {
   "cell_type": "code",
   "execution_count": 206,
   "id": "966be512-ca46-4f54-a7ae-88b55a5c7699",
   "metadata": {},
   "outputs": [],
   "source": [
    "from sklearn.tree import DecisionTreeClassifier\n",
    "dtree= DecisionTreeClassifier(random_state=42)"
   ]
  },
  {
   "cell_type": "code",
   "execution_count": 208,
   "id": "04667648-94a3-4b15-b450-6b14b96480ca",
   "metadata": {},
   "outputs": [],
   "source": [
    "params = {'max_depth':[6,8,10,12,13,14,15,16], 'min_samples_split': [2,3,4,5,6,7], 'min_samples_leaf':[1,2,3,4,5]}\n",
    "\n",
    "tree_clf = GridSearchCV(dtree, param_grid=params, scoring=scorer , cv=cv_sets)"
   ]
  },
  {
   "cell_type": "code",
   "execution_count": 210,
   "id": "8f6b629c-db2f-4224-8f5a-7d737371ee0a",
   "metadata": {},
   "outputs": [
    {
     "data": {
      "text/plain": [
       "{'max_depth': 16, 'min_samples_leaf': 1, 'min_samples_split': 3}"
      ]
     },
     "execution_count": 210,
     "metadata": {},
     "output_type": "execute_result"
    }
   ],
   "source": [
    "# train the model\n",
    "tree_clf.fit(X_train,y_train)\n",
    "tree_clf.best_params_"
   ]
  },
  {
   "cell_type": "code",
   "execution_count": 211,
   "id": "453cfbe2-10d9-4e52-b4e6-a516abe799cc",
   "metadata": {},
   "outputs": [],
   "source": [
    "tree_train_pred = tree_clf.predict(X_train)\n",
    "tree_test_pred = tree_clf.predict(X_test)\n",
    "\n",
    "tree_train_acc = accuracy_score(y_train , tree_train_pred)\n",
    "tree_test_acc = accuracy_score(y_test , tree_test_pred)\n",
    "\n",
    "tree_train_f1 = f1_score(y_train , tree_train_pred)\n",
    "tree_test_f1 = f1_score(y_test , tree_test_pred)"
   ]
  },
  {
   "cell_type": "code",
   "execution_count": 212,
   "id": "45492d7a-b36e-4030-89a2-9bf9ed636f18",
   "metadata": {},
   "outputs": [
    {
     "name": "stdout",
     "output_type": "stream",
     "text": [
      "tree best classifier training accuracy : 0.982078853046595\n",
      "AdaBoost best classifier test accuracy : 0.7894265232974911\n",
      "\n",
      "tree best classifier training f1 score : 0.9798081776880363\n",
      "tree best classifier training f1 score : 0.7642928786359077\n"
     ]
    }
   ],
   "source": [
    "print('tree best classifier training accuracy :',tree_train_acc)\n",
    "print('AdaBoost best classifier test accuracy :',tree_test_acc)\n",
    "print()\n",
    "print('tree best classifier training f1 score :',tree_train_f1)\n",
    "print('tree best classifier training f1 score :',tree_test_f1)"
   ]
  },
  {
   "cell_type": "markdown",
   "id": "3c5d129a-3fef-48dd-a71d-57afb0a578bf",
   "metadata": {},
   "source": [
    "# tunning Ada Boost Classifier"
   ]
  },
  {
   "cell_type": "code",
   "execution_count": 74,
   "id": "52b9551e-9c2b-46e0-ba3a-12a7682a366e",
   "metadata": {},
   "outputs": [],
   "source": [
    "from sklearn.ensemble import AdaBoostClassifier\n",
    "adaboost=AdaBoostClassifier(random_state=42)\n",
    "\n",
    "base_est=DecisionTreeClassifier(random_state=42, max_depth = 14 , min_samples_leaf = 3 , min_samples_split = 2)"
   ]
  },
  {
   "cell_type": "code",
   "execution_count": 75,
   "id": "ac37a2b2-1cdf-4580-8f18-6a900494e1e3",
   "metadata": {},
   "outputs": [
    {
     "data": {
      "text/plain": [
       "{'algorithm': 'SAMME.R',\n",
       " 'estimator': None,\n",
       " 'learning_rate': 1.0,\n",
       " 'n_estimators': 50,\n",
       " 'random_state': 42}"
      ]
     },
     "execution_count": 75,
     "metadata": {},
     "output_type": "execute_result"
    }
   ],
   "source": [
    "adaboost.get_params()"
   ]
  },
  {
   "cell_type": "code",
   "execution_count": 76,
   "id": "a080c1e4-e9b2-4f9b-a11f-bf36b2094790",
   "metadata": {},
   "outputs": [],
   "source": [
    "params = { 'n_estimators' : [10,20,30,40,50] , 'learning_rate' :[20 ,10 , 5 , 1 , 0.5 ] , 'estimator': [base_est] , 'algorithm' : ['SAMME'] }\n",
    "\n",
    "ada_clf = GridSearchCV(adaboost, param_grid=params, scoring=scorer , cv=cv_sets)"
   ]
  },
  {
   "cell_type": "code",
   "execution_count": 77,
   "id": "58c92b03-724d-4f4b-be8d-15756dbe4dea",
   "metadata": {},
   "outputs": [],
   "source": [
    "# train the model\n",
    "ada_clf.fit(X_train,y_train)\n",
    "best_clf = ada_clf.best_estimator_"
   ]
  },
  {
   "cell_type": "code",
   "execution_count": 78,
   "id": "0859942a-4d67-4c3d-a002-4c9799da0dfb",
   "metadata": {},
   "outputs": [
    {
     "data": {
      "text/plain": [
       "{'algorithm': 'SAMME',\n",
       " 'estimator__ccp_alpha': 0.0,\n",
       " 'estimator__class_weight': None,\n",
       " 'estimator__criterion': 'gini',\n",
       " 'estimator__max_depth': 14,\n",
       " 'estimator__max_features': None,\n",
       " 'estimator__max_leaf_nodes': None,\n",
       " 'estimator__min_impurity_decrease': 0.0,\n",
       " 'estimator__min_samples_leaf': 3,\n",
       " 'estimator__min_samples_split': 2,\n",
       " 'estimator__min_weight_fraction_leaf': 0.0,\n",
       " 'estimator__monotonic_cst': None,\n",
       " 'estimator__random_state': 42,\n",
       " 'estimator__splitter': 'best',\n",
       " 'estimator': DecisionTreeClassifier(max_depth=14, min_samples_leaf=3, random_state=42),\n",
       " 'learning_rate': 1,\n",
       " 'n_estimators': 50,\n",
       " 'random_state': 42}"
      ]
     },
     "execution_count": 78,
     "metadata": {},
     "output_type": "execute_result"
    }
   ],
   "source": [
    "best_clf.get_params()"
   ]
  },
  {
   "cell_type": "code",
   "execution_count": 79,
   "id": "93c0a10c-67e0-489b-b9c2-c57a456c838d",
   "metadata": {},
   "outputs": [],
   "source": [
    "ada_train_pred = best_clf.predict(X_train)\n",
    "ada_test_pred = best_clf.predict(X_test)\n",
    "\n",
    "ada_train_acc = accuracy_score(y_train , ada_train_pred)\n",
    "ada_test_acc = accuracy_score(y_test , ada_test_pred)\n",
    "\n",
    "ada_train_f1 = f1_score(y_train , ada_train_pred)\n",
    "ada_test_f1 = f1_score(y_test , ada_test_pred)"
   ]
  },
  {
   "cell_type": "code",
   "execution_count": 80,
   "id": "368df5e8-5907-49ac-934c-e86eecab7793",
   "metadata": {
    "scrolled": true
   },
   "outputs": [
    {
     "name": "stdout",
     "output_type": "stream",
     "text": [
      "AdaBoost best classifier training accuracy :  1.0\n",
      "AdaBoost best classifier test accuracy :  0.9059139784946236\n",
      "\n",
      "AdaBoost best classifier training f1_score :  1.0\n",
      "AdaBoost best classifier test f1_score :  0.8923076923076924\n"
     ]
    }
   ],
   "source": [
    "print('AdaBoost best classifier training accuracy : ',ada_train_acc)\n",
    "print('AdaBoost best classifier test accuracy : ',ada_test_acc)\n",
    "print()\n",
    "print('AdaBoost best classifier training f1_score : ',ada_train_f1)\n",
    "print('AdaBoost best classifier test f1_score : ',ada_test_f1)"
   ]
  },
  {
   "cell_type": "markdown",
   "id": "efd86434-411e-4f43-8a6b-f3c252aeeeb1",
   "metadata": {},
   "source": [
    "## GUI"
   ]
  },
  {
   "cell_type": "code",
   "execution_count": 87,
   "id": "b65972a2-eaf0-4342-b1ff-9b381a373ecd",
   "metadata": {},
   "outputs": [],
   "source": [
    "import joblib"
   ]
  },
  {
   "cell_type": "code",
   "execution_count": 93,
   "id": "38c4e898-cc46-412d-8870-091f732b0db3",
   "metadata": {},
   "outputs": [
    {
     "data": {
      "text/plain": [
       "['D://best_ada_model.pkl']"
      ]
     },
     "execution_count": 93,
     "metadata": {},
     "output_type": "execute_result"
    }
   ],
   "source": [
    "joblib.dump(best_clf, 'D://best_ada_model.pkl')\n"
   ]
  },
  {
   "cell_type": "code",
   "execution_count": 101,
   "id": "00159bdb-a875-4031-8bbb-9840ab80d75a",
   "metadata": {},
   "outputs": [
    {
     "data": {
      "text/plain": [
       "['D://scaler.pkl']"
      ]
     },
     "execution_count": 101,
     "metadata": {},
     "output_type": "execute_result"
    }
   ],
   "source": [
    "scaler = StandardScaler().fit(X_train)\n",
    "joblib.dump(scaler, 'D://scaler.pkl')"
   ]
  },
  {
   "cell_type": "code",
   "execution_count": 105,
   "id": "3188edaf-cb6c-47a0-9fff-43d23ce2c761",
   "metadata": {},
   "outputs": [],
   "source": [
    "loaded_model = joblib.load('D://best_ada_model.pkl')\n",
    "loaded_scaler=joblib.load('D://scaler.pkl')"
   ]
  },
  {
   "cell_type": "code",
   "execution_count": 125,
   "id": "9a7822ca-f31c-4e6c-9298-cffaa3c96fa3",
   "metadata": {},
   "outputs": [
    {
     "data": {
      "text/plain": [
       "0.9059139784946236"
      ]
     },
     "execution_count": 125,
     "metadata": {},
     "output_type": "execute_result"
    }
   ],
   "source": [
    "y_predict=loaded_model.predict(X_test)\n",
    "ada_test_ac = accuracy_score(y_test , ada_test_pred)\n",
    "ada_test_ac"
   ]
  },
  {
   "cell_type": "code",
   "execution_count": 253,
   "id": "35d0811e-0a63-4b54-a915-8bf83f1e030c",
   "metadata": {},
   "outputs": [
    {
     "name": "stderr",
     "output_type": "stream",
     "text": [
      "C:\\Users\\Dalia\\anaconda3\\Lib\\site-packages\\sklearn\\base.py:486: UserWarning: X has feature names, but StandardScaler was fitted without feature names\n",
      "  warnings.warn(\n",
      "C:\\Users\\Dalia\\anaconda3\\Lib\\site-packages\\sklearn\\base.py:486: UserWarning: X has feature names, but StandardScaler was fitted without feature names\n",
      "  warnings.warn(\n"
     ]
    }
   ],
   "source": [
    "import numpy as np\n",
    "import pandas as pd\n",
    "import joblib\n",
    "from tkinter import *\n",
    "\n",
    "# Function for log transformation\n",
    "def log_transform(df, columns):\n",
    "    df_log = df.copy()\n",
    "    for col in columns:\n",
    "        df_log[col] = np.log1p(df[col])  \n",
    "    return df_log\n",
    "\n",
    "def predict_heart_disease():\n",
    "    # Get user input from the GUI\n",
    "    age = int(entry_age.get())\n",
    "    education = int(entry_education.get())\n",
    "    cigsPerDay = float(entry_cigsPerDay.get())\n",
    "    BPMeds = float(entry_BPMeds.get())\n",
    "    prevalentStroke = int(entry_prevalentStroke.get())\n",
    "    prevalentHyp = int(entry_prevalentHyp.get())\n",
    "    diabetes = int(entry_diabetes.get())\n",
    "    totChol = float(entry_totChol.get())\n",
    "    sysBP = float(entry_sysBP.get())\n",
    "    diaBP = float(entry_diaBP.get())\n",
    "    BMI = float(entry_BMI.get())\n",
    "    heartRate = float(entry_heartRate.get())\n",
    "    glucose = float(entry_glucose.get())\n",
    "    \n",
    "    sex_input = entry_sex.get().strip().lower()\n",
    "    if sex_input == 'f':\n",
    "        sex = 0\n",
    "    elif sex_input == 'm':\n",
    "        sex = 1\n",
    "    else:\n",
    "        result_label.config(text=\"Invalid input for sex. Please enter 'f' or 'm'.\")\n",
    "        return  \n",
    "\n",
    "    X_new = pd.DataFrame([[age, education, cigsPerDay, BPMeds, prevalentStroke, prevalentHyp, diabetes, \n",
    "                           totChol, sysBP, diaBP, BMI, heartRate, glucose, sex]],\n",
    "                         columns=['age', 'education', 'cigsPerDay', 'BPMeds', 'prevalentStroke', \n",
    "                                  'prevalentHyp', 'diabetes', 'totChol', 'sysBP', 'diaBP', \n",
    "                                  'BMI', 'heartRate', 'glucose', 'male'])\n",
    "\n",
    "    log_columns = ['cigsPerDay', 'BPMeds', 'sysBP', 'glucose']\n",
    "    X_new_log = log_transform(X_new, log_columns)\n",
    "\n",
    "    scaler = joblib.load('scaler.pkl')\n",
    "    model = joblib.load('best_adaboost_model.pkl')\n",
    "\n",
    "    X_new_scaled = scaler.transform(X_new_log)\n",
    "\n",
    "    prediction = model.predict(X_new_scaled)\n",
    "\n",
    "    if prediction[0] == 1:\n",
    "        result_text = \"Prediction: High risk of heart disease (TenYearCHD = 1)\"\n",
    "    else:\n",
    "        result_text = \"Prediction: Low risk of heart disease (TenYearCHD = 0)\"\n",
    "\n",
    "    result_label.config(text=result_text)\n",
    "\n",
    "root = Tk()\n",
    "root.title(\"Heart Disease Prediction\")\n",
    "\n",
    "Label(root, text=\"Age\").grid(row=0)\n",
    "Label(root, text=\"Education\").grid(row=1)\n",
    "Label(root, text=\"Cigs Per Day\").grid(row=2)\n",
    "Label(root, text=\"BPMeds\").grid(row=3)\n",
    "Label(root, text=\"Prevalent Stroke\").grid(row=4)\n",
    "Label(root, text=\"Prevalent Hyp\").grid(row=5)\n",
    "Label(root, text=\"Diabetes\").grid(row=6)\n",
    "Label(root, text=\"Tot Chol\").grid(row=7)\n",
    "Label(root, text=\"SysBP\").grid(row=8)\n",
    "Label(root, text=\"DiaBP\").grid(row=9)\n",
    "Label(root, text=\"BMI\").grid(row=10)\n",
    "Label(root, text=\"Heart Rate\").grid(row=11)\n",
    "Label(root, text=\"Glucose\").grid(row=12)\n",
    "Label(root, text=\"Sex\").grid(row=13)\n",
    "\n",
    "\n",
    "entry_age = Entry(root)\n",
    "entry_education = Entry(root)\n",
    "entry_cigsPerDay = Entry(root)\n",
    "entry_BPMeds = Entry(root)\n",
    "entry_prevalentStroke = Entry(root)\n",
    "entry_prevalentHyp = Entry(root)\n",
    "entry_diabetes = Entry(root)\n",
    "entry_totChol = Entry(root)\n",
    "entry_sysBP = Entry(root)\n",
    "entry_diaBP = Entry(root)\n",
    "entry_BMI = Entry(root)\n",
    "entry_heartRate = Entry(root)\n",
    "entry_glucose = Entry(root)\n",
    "entry_sex=Entry(root)\n",
    "\n",
    "# Position input fields in the grid\n",
    "entry_age.grid(row=0, column=1)\n",
    "entry_education.grid(row=1, column=1)\n",
    "entry_cigsPerDay.grid(row=2, column=1)\n",
    "entry_BPMeds.grid(row=3, column=1)\n",
    "entry_prevalentStroke.grid(row=4, column=1)\n",
    "entry_prevalentHyp.grid(row=5, column=1)\n",
    "entry_diabetes.grid(row=6, column=1)\n",
    "entry_totChol.grid(row=7, column=1)\n",
    "entry_sysBP.grid(row=8, column=1)\n",
    "entry_diaBP.grid(row=9, column=1)\n",
    "entry_BMI.grid(row=10, column=1)\n",
    "entry_heartRate.grid(row=11, column=1)\n",
    "entry_glucose.grid(row=12, column=1)\n",
    "entry_sex.grid(row=13, column=1)\n",
    "\n",
    "Button(root, text=\"Predict\", command=predict_heart_disease).grid(row=14, column=1)\n",
    "\n",
    "result_label = Label(root, text=\"\")\n",
    "result_label.grid(row=15, column=1)\n",
    "\n",
    "root.mainloop()\n"
   ]
  },
  {
   "cell_type": "markdown",
   "id": "e7810940-47bc-4bbe-95a2-9c04b7986e36",
   "metadata": {},
   "source": [
    "# mlflow"
   ]
  },
  {
   "cell_type": "code",
   "execution_count": 82,
   "id": "d4d2bb4c-a5ca-4bad-a58d-69bac84ce0be",
   "metadata": {},
   "outputs": [],
   "source": [
    "\n",
    "\n",
    "best_max_debth=base_est.get_params()[\"max_depth\"]\n",
    "best_min_s_leaf=base_est.get_params()[\"min_samples_leaf\"]\n",
    "best_min_s_split=base_est.get_params()[\"min_samples_split\"]\n",
    "best_n_est = best_clf.get_params()[\"n_estimators\"]\n",
    "best_learn_r = best_clf.get_params()[\"learning_rate\"]"
   ]
  },
  {
   "cell_type": "code",
   "execution_count": 83,
   "id": "3e604784-a22f-439f-b543-3da468ae715c",
   "metadata": {},
   "outputs": [
    {
     "ename": "ModuleNotFoundError",
     "evalue": "No module named 'mlflow'",
     "output_type": "error",
     "traceback": [
      "\u001b[1;31m---------------------------------------------------------------------------\u001b[0m",
      "\u001b[1;31mModuleNotFoundError\u001b[0m                       Traceback (most recent call last)",
      "Cell \u001b[1;32mIn[83], line 1\u001b[0m\n\u001b[1;32m----> 1\u001b[0m \u001b[38;5;28;01mimport\u001b[39;00m \u001b[38;5;21;01mmlflow\u001b[39;00m\n\u001b[0;32m      2\u001b[0m mlflow\u001b[38;5;241m.\u001b[39mset_experiment(\u001b[38;5;124m'\u001b[39m\u001b[38;5;124mheart disease\u001b[39m\u001b[38;5;124m'\u001b[39m)\n\u001b[0;32m      3\u001b[0m \u001b[38;5;28;01mwith\u001b[39;00m mlflow\u001b[38;5;241m.\u001b[39mstart_run(run_name\u001b[38;5;241m=\u001b[39m\u001b[38;5;124m'\u001b[39m\u001b[38;5;124mtest 1\u001b[39m\u001b[38;5;124m'\u001b[39m) \u001b[38;5;28;01mas\u001b[39;00m run: \u001b[38;5;66;03m# i will change the run name this time\u001b[39;00m\n",
      "\u001b[1;31mModuleNotFoundError\u001b[0m: No module named 'mlflow'"
     ]
    }
   ],
   "source": [
    "import mlflow\n",
    "mlflow.set_experiment('heart disease')\n",
    "with mlflow.start_run(run_name='test 1') as run: # i will change the run name this time\n",
    "\n",
    "    mlflow.log_param('best_max_depth',best_max_debth)#show input max depth on mlfow ui\n",
    "    mlflow.log_param('best min samle per leaf' ,best_min_s_leaf)#show input min samle per leaf on mlflow ui\n",
    "    mlflow.log_param('best min samle per split' ,best_min_s_split)#show input min samle per split on mlflow ui\n",
    "    mlflow.log_param('best number of estimators' ,best_n_est)\n",
    "    mlflow.log_param('best learning rate' ,best_learn_r)\n",
    "    mlflow.log_metric('best accuracy' ,ada_test_acc)\n",
    "    mlflow.log_metric('best f1_score' ,ada_test_f1)\n",
    "    mlflow.sklearn.log_model(best_clf,\"best tuned model\")"
   ]
  },
  {
   "cell_type": "code",
   "execution_count": null,
   "id": "3494d183-d63c-4c6f-bdf1-cda4aec43f5a",
   "metadata": {},
   "outputs": [],
   "source": [
    "import mlflow\n",
    "logged_model = 'runs:/97f7271fffcf48f186f4c8e255d17869/best tuned model'\n",
    "\n",
    "# Load model as a PyFuncModel.\n",
    "loaded_model = mlflow.pyfunc.load_model(logged_model)\n",
    "\n",
    "# Predict on a Pandas DataFrame.\n",
    "import pandas as pd\n",
    "y_pred=loaded_model.predict(X_test)\n",
    "f1_test=f1_score(y_pred, y_test)\n",
    "print('The testing F1 Score is', f1_test)\n",
    "test_accuracy = accuracy_score(y_test,y_pred )\n",
    "print('The test accuracy is', test_accuracy)"
   ]
  },
  {
   "cell_type": "code",
   "execution_count": null,
   "id": "f49983df-c9d1-47e7-9013-dc5ca0228458",
   "metadata": {},
   "outputs": [],
   "source": []
  }
 ],
 "metadata": {
  "kernelspec": {
   "display_name": "Python 3 (ipykernel)",
   "language": "python",
   "name": "python3"
  },
  "language_info": {
   "codemirror_mode": {
    "name": "ipython",
    "version": 3
   },
   "file_extension": ".py",
   "mimetype": "text/x-python",
   "name": "python",
   "nbconvert_exporter": "python",
   "pygments_lexer": "ipython3",
   "version": "3.11.7"
  }
 },
 "nbformat": 4,
 "nbformat_minor": 5
}
